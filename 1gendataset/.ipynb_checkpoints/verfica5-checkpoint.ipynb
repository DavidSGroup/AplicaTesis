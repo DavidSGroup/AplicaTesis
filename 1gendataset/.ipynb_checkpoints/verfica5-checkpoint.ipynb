{
 "cells": [
  {
   "cell_type": "code",
   "execution_count": 15,
   "id": "854667d3",
   "metadata": {},
   "outputs": [],
   "source": [
    "import os\n",
    "import music21 as m21\n",
    "from music21 import converter\n",
    "KERN_DATASET_PATH = \"C:/Users/Davids/Downloads/melody/generating-melodies-with-rnn-lstm-master/3 - Preprocessing dataset for melody generation pt 1/code/deutschl/test/\"\n",
    "SAVE_DIR = \"C:/Users/Davids/Downloads/melody/generating-melodies-with-rnn-lstm-master/3 - Preprocessing dataset for melody generation pt 1/code/deutschl/dataset/\"\n",
    "# Resto del código de las funciones y definiciones\n",
    "# Definición de load_songs_in_kern, has_acceptable_durations, transpose, preprocess\n",
    "from music21 import environment\n",
    "environment.set('musicxmlPath', 'C:\\\\Program Files\\\\MuseScore 3\\\\bin\\\\MuseScore3.exe')\n",
    "from music21 import environment\n",
    "\n",
    "# Configurar la ruta del ejecutable de MuseScore para la conversión a PNG\n",
    "environment.set(\"musescoreDirectPNGPath\", \"C:\\\\Program Files\\\\MuseScore 3\\\\bin\\\\MuseScore3.exe\")\n",
    "import subprocess\n",
    "from music21 import environment\n",
    "\n"
   ]
  },
  {
   "cell_type": "code",
   "execution_count": 16,
   "id": "a5567e06",
   "metadata": {},
   "outputs": [],
   "source": [
    "# durations are expressed in quarter length\n",
    "ACCEPTABLE_DURATIONS = [\n",
    "    0.25, # 16th note\n",
    "    0.5, # 8th note\n",
    "    0.75,\n",
    "    1.0, # quarter note\n",
    "    1.5,\n",
    "    2, # half note\n",
    "    3,\n",
    "    4 # whole note\n",
    "]\n"
   ]
  },
  {
   "cell_type": "code",
   "execution_count": 17,
   "id": "b3a0b3c7",
   "metadata": {},
   "outputs": [
    {
     "name": "stdout",
     "output_type": "stream",
     "text": [
      "Directorio temporal personalizado configurado en C:/Users/Davids/Downloads/melody/generating-melodies-with-rnn-lstm-master/3 - Preprocessing dataset for melody generation pt 1/code/deutschl/otro/\n"
     ]
    }
   ],
   "source": [
    "import os\n",
    "import shutil\n",
    "from music21 import environment\n",
    "\n",
    "# Directorio temporal personalizado\n",
    "custom_temp_dir = 'C:/Users/Davids/Downloads/melody/generating-melodies-with-rnn-lstm-master/3 - Preprocessing dataset for melody generation pt 1/code/deutschl/otro/'  # Ruta a tu directorio temporal\n",
    "\n",
    "# Función para configurar el directorio temporal personalizado\n",
    "def set_temp_dir():\n",
    "    # Elimina el directorio si existe\n",
    "    shutil.rmtree(custom_temp_dir, ignore_errors=True)\n",
    "    # Crea el directorio si no existe\n",
    "    os.makedirs(custom_temp_dir)\n",
    "\n",
    "    # Establece el directorio temporal personalizado en tu entorno de music21\n",
    "    environment.set('directoryScratch', custom_temp_dir)\n",
    "    print(f\"Directorio temporal personalizado configurado en {custom_temp_dir}\")\n",
    "\n",
    "# Llamada a la función para configurar el directorio temporal\n",
    "set_temp_dir()\n",
    "\n",
    "# Aquí puedes continuar con el resto de tu código, utilizando el directorio temporal configurado\n"
   ]
  },
  {
   "cell_type": "code",
   "execution_count": 18,
   "id": "de62d743",
   "metadata": {},
   "outputs": [],
   "source": [
    "def show_m21(mObj, width=None, height=None):\n",
    "    # Save defaults\n",
    "    author = m21.defaults.author\n",
    "    title = m21.defaults.title\n",
    "    # Remove them\n",
    "    m21.defaults.author = None\n",
    "    m21.defaults.title = None\n",
    "    \n",
    "    us = m21.environment.UserSettings() \n",
    "    scratchPath = pathlib.Path(us['directoryScratch'])\n",
    "    fname = mObj.write() #  This writes a temp musicXML file and returns the name\n",
    "    p_mxml = pathlib.Path(fname)\n",
    "    p_out = p_mxml.with_suffix(\".png\")\n",
    "    # Create command string\n",
    "    musescorePath = us['musescoreDirectPNGPath']\n",
    "    musescoreRun = '\"' + str(musescorePath) + '\" ' + str(p_mxml) + ' -o  ' + str(p_out) + ' -T 0 '\n",
    "    #os.system(musescoreRun)\n",
    "    subprocess.run(musescoreRun, shell=True)\n",
    "    png_files = scratchPath.glob(\"*.png\")\n",
    "    base_name = p_mxml.stem\n",
    "    # Restore defaults\n",
    "    m21.defaults.author = author\n",
    "    m21.defaults.title = author\n",
    "    for png in png_files:\n",
    "        if png.match(base_name + \"*\"):\n",
    "            return Image(filename=str(png), width=width, height=height)"
   ]
  },
  {
   "cell_type": "code",
   "execution_count": 19,
   "id": "791f61c0",
   "metadata": {},
   "outputs": [],
   "source": [
    "def load_songs_in_kern(dataset_path):\n",
    "    \"\"\"Loads all kern pieces in dataset using music21.\n",
    "\n",
    "    :param dataset_path (str): Path to dataset\n",
    "    :return songs (list of m21 streams): List containing all pieces\n",
    "    \"\"\"\n",
    "    songs = []\n",
    "\n",
    "    # go through all the files in dataset and load them with music21\n",
    "    for path, subdirs, files in os.walk(dataset_path):\n",
    "        for file in files:\n",
    "\n",
    "            # consider only kern files\n",
    "            if file[-3:] == \"krn\":\n",
    "                song = m21.converter.parse(os.path.join(path, file))\n",
    "                songs.append(song)\n",
    "     # Imprime la lista de canciones\n",
    "    #print(\"Lista de canciones cargadas:\")\n",
    "    #for song in songs:\n",
    "     #   print(song)  # Imprime cada canción\n",
    "\n",
    "    return songs\n"
   ]
  },
  {
   "cell_type": "code",
   "execution_count": 20,
   "id": "ff5b33c7",
   "metadata": {},
   "outputs": [],
   "source": [
    "def preprocess(dataset_path):\n",
    "\n",
    "    # load folk songs\n",
    "    print(\"Loading songs...\")\n",
    "    songs = load_songs_in_kern(dataset_path)\n",
    "    print(f\"Loaded {len(songs)} songs.\")\n",
    "    \n",
    "    for i, song in enumerate(songs):\n",
    "        # filter out songs that have non-acceptable durations\n",
    "        if not has_acceptable_durations(song, ACCEPTABLE_DURATIONS):\n",
    "            continue\n",
    "\n",
    "        # transpose songs to Cmaj/Amin\n",
    "        song = transpose(song)\n",
    "\n",
    "        # encode songs with music time series representation\n",
    "        encoded_song = encode_song(song)#esto no lo usamos\n",
    "\n",
    "        # save songs to text file\n",
    "        save_path = os.path.join(SAVE_DIR, str(i))\n",
    "        with open(save_path, \"w\") as fp:\n",
    "            fp.write(encoded_song)\n"
   ]
  },
  {
   "cell_type": "code",
   "execution_count": 21,
   "id": "b881e070",
   "metadata": {},
   "outputs": [],
   "source": [
    "def has_acceptable_durations(song, acceptable_durations):\n",
    "    \"\"\"Boolean routine that returns True if piece has all acceptable duration, False otherwise.\n",
    "\n",
    "    :param song (m21 stream):\n",
    "    :param acceptable_durations (list): List of acceptable duration in quarter length\n",
    "    :return (bool):\n",
    "    \"\"\"\n",
    "    for note in song.flatten().notesAndRests:\n",
    "        if note.duration.quarterLength not in acceptable_durations:\n",
    "            return False\n",
    "    return True"
   ]
  },
  {
   "cell_type": "code",
   "execution_count": 22,
   "id": "561c889a",
   "metadata": {},
   "outputs": [],
   "source": [
    "def transpose(song):\n",
    "    \"\"\"Transposes song to C maj/A min\n",
    "\n",
    "    :param piece (m21 stream): Piece to transpose\n",
    "    :return transposed_song (m21 stream):\n",
    "    \"\"\"\n",
    "\n",
    "    # get key from the song\n",
    "    parts = song.getElementsByClass(m21.stream.Part)\n",
    "    measures_part0 = parts[0].getElementsByClass(m21.stream.Measure)\n",
    "    key = measures_part0[0][4]\n",
    "\n",
    "    # estimate key using music21\n",
    "    if not isinstance(key, m21.key.Key):\n",
    "        key = song.analyze(\"key\")\n",
    "\n",
    "    # get interval for transposition. E.g., Bmaj -> Cmaj\n",
    "    if key.mode == \"major\":\n",
    "        interval = m21.interval.Interval(key.tonic, m21.pitch.Pitch(\"C\"))\n",
    "    elif key.mode == \"minor\":\n",
    "        interval = m21.interval.Interval(key.tonic, m21.pitch.Pitch(\"A\"))\n",
    "\n",
    "    # transpose song by calculated interval\n",
    "    tranposed_song = song.transpose(interval)\n",
    "    return tranposed_song\n"
   ]
  },
  {
   "cell_type": "code",
   "execution_count": 23,
   "id": "408dcf24",
   "metadata": {},
   "outputs": [],
   "source": [
    "def encode_song(song, time_step=0.25):\n",
    "    \"\"\"Converts a score into a time-series-like music representation. Each item in the encoded list represents 'min_duration'\n",
    "    quarter lengths. The symbols used at each step are: integers for MIDI notes, 'r' for representing a rest, and '_'\n",
    "    for representing notes/rests that are carried over into a new time step. Here's a sample encoding:\n",
    "\n",
    "        [\"r\", \"_\", \"60\", \"_\", \"_\", \"_\", \"72\" \"_\"]\n",
    "\n",
    "    :param song (m21 stream): Piece to encode\n",
    "    :param time_step (float): Duration of each time step in quarter length\n",
    "    :return:\n",
    "    \"\"\"\n",
    "\n",
    "    encoded_song = []\n",
    "\n",
    "    for event in song.flat.notesAndRests:\n",
    "\n",
    "        # handle notes\n",
    "        if isinstance(event, m21.note.Note):\n",
    "            symbol = event.pitch.midi # 60\n",
    "        # handle rests\n",
    "        elif isinstance(event, m21.note.Rest):\n",
    "            symbol = \"r\"\n",
    "\n",
    "        # convert the note/rest into time series notation\n",
    "        steps = int(event.duration.quarterLength / time_step)\n",
    "        for step in range(steps):\n",
    "\n",
    "            # if it's the first time we see a note/rest, let's encode it. Otherwise, it means we're carrying the same\n",
    "            # symbol in a new time step\n",
    "            if step == 0:\n",
    "                encoded_song.append(symbol)\n",
    "            else:\n",
    "                encoded_song.append(\"_\")\n",
    "\n",
    "    # cast encoded song to str\n",
    "    encoded_song = \" \".join(map(str, encoded_song))\n",
    "\n",
    "    return encoded_song\n"
   ]
  },
  {
   "cell_type": "code",
   "execution_count": null,
   "id": "0c1f6f16",
   "metadata": {},
   "outputs": [],
   "source": [
    "def create_single_file_dataset(dataset_path, file_dataset_path, sequence_length):\n",
    "    \"\"\"Generates a file collating all the encoded songs and adding new piece delimiters.\n",
    "\n",
    "    :param dataset_path (str): Path to folder containing the encoded songs\n",
    "    :param file_dataset_path (str): Path to file for saving songs in single file\n",
    "    :param sequence_length (int): # of time steps to be considered for training\n",
    "    :return songs (str): String containing all songs in dataset + delimiters\n",
    "    \"\"\"\n",
    "\n",
    "    new_song_delimiter = \"/ \" * sequence_length\n",
    "    songs = \"\"\n",
    "\n",
    "    # load encoded songs and add delimiters\n",
    "    for path, _, files in os.walk(dataset_path):\n",
    "        for file in files:\n",
    "            file_path = os.path.join(path, file)\n",
    "            song = load(file_path)\n",
    "            songs = songs + song + \" \" + new_song_delimiter\n",
    "\n",
    "    # remove empty space from last character of string\n",
    "    songs = songs[:-1]\n",
    "\n",
    "    # save string that contains all the dataset\n",
    "    with open(file_dataset_path, \"w\") as fp:\n",
    "        fp.write(songs)\n",
    "\n",
    "    return songs"
   ]
  },
  {
   "cell_type": "code",
   "execution_count": 24,
   "id": "ca59a9d0",
   "metadata": {},
   "outputs": [
    {
     "name": "stdout",
     "output_type": "stream",
     "text": [
      "Loaded 12 songs.\n",
      "Loading songs...\n",
      "Loaded 12 songs.\n"
     ]
    },
    {
     "data": {
      "image/png": "[encoded data removed]",
      "text/plain": [
       "<IPython.core.display.Image object>"
      ]
     },
     "metadata": {
      "image/png": {
       "height": 287,
       "width": 844
      }
     },
     "output_type": "display_data"
    }
   ],
   "source": [
    "if __name__ == \"__main__\":\n",
    "\n",
    "    # load songs\n",
    "\n",
    "    songs = load_songs_in_kern(KERN_DATASET_PATH)\n",
    "    print(f\"Loaded {len(songs)} songs.\")\n",
    "    song = songs[0]\n",
    "    \n",
    "    preprocess(KERN_DATASET_PATH)\n",
    "\n",
    "    # transpose song\n",
    "    transposed_song = transpose(song)\n",
    "    transposed_song.show()\n",
    "\n",
    "    \n",
    "    #print(f\"Has acceptable duration? {has_acceptable_durations(song, ACCEPTABLE_DURATIONS)}\")\n",
    "\n",
    "    #song.show\n",
    "    #show_m21(song)\n"
   ]
  },
  {
   "cell_type": "code",
   "execution_count": null,
   "id": "50befc9e",
   "metadata": {},
   "outputs": [],
   "source": []
  },
  {
   "cell_type": "code",
   "execution_count": null,
   "id": "c858d06f",
   "metadata": {},
   "outputs": [],
   "source": []
  }
 ],
 "metadata": {
  "kernelspec": {
   "display_name": "Python 3 (ipykernel)",
   "language": "python",
   "name": "python3"
  },
  "language_info": {
   "codemirror_mode": {
    "name": "ipython",
    "version": 3
   },
   "file_extension": ".py",
   "mimetype": "text/x-python",
   "name": "python",
   "nbconvert_exporter": "python",
   "pygments_lexer": "ipython3",
   "version": "3.11.5"
  }
 },
 "nbformat": 4,
 "nbformat_minor": 5
}
