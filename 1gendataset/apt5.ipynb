{
 "cells": [
  {
   "cell_type": "code",
   "execution_count": 1,
   "id": "854667d3",
   "metadata": {},
   "outputs": [
    {
     "name": "stdout",
     "output_type": "stream",
     "text": [
      "c:/Users/win10Davids/Documents/AplicaTesis/1TESTCUECA/\n"
     ]
    }
   ],
   "source": [
    "import os\n",
    "#from pathlib import Path\n",
    "import music21 as m21\n",
    "from music21 import converter\n",
    "\n",
    "logger=\"win10Davids\"\n",
    "\n",
    "\n",
    "# Resto del código de las funciones y definiciones\n",
    "DATASET_PATH = \"c:/Users/{}/Documents/AplicaTesis/1TESTCUECA/\".format(logger)\n",
    "ITEM_PATH = \"c:/Users/{}/Documents/AplicaTesis/1CODEDITEM/\".format(logger)\n",
    "print(DATASET_PATH)\n",
    "# Definición de load_songs_in_kern, has_acceptable_durations, transpose, preprocess\n",
    "from music21 import environment\n",
    "environment.set('musicxmlPath', 'C:\\\\Program Files\\\\MuseScore 3\\\\bin\\\\MuseScore3.exe')\n",
    "from music21 import environment\n",
    "\n",
    "# Configurar la ruta del ejecutable de MuseScore para la conversión a PNG\n",
    "environment.set(\"musescoreDirectPNGPath\", \"C:\\\\Program Files\\\\MuseScore 3\\\\bin\\\\MuseScore3.exe\")\n",
    "import subprocess\n",
    "from music21 import environment\n",
    "import json\n",
    "#temp\n",
    "TEMP_PATH = \"c:/Users/{}/Documents/AplicaTesis/temp/\".format(logger)"
   ]
  },
  {
   "cell_type": "code",
   "execution_count": 2,
   "id": "add99dcd",
   "metadata": {},
   "outputs": [],
   "source": [
    "#FILE_DATASET = \"fmelody\"\n",
    "#FILE_DATASET = \"c:/Users/{}/Documents/AplicaTesis/1DATASET/aplicatesis\".format(logger)\n",
    "#DICTIO_PATH = \"c:/Users/{}/Documents/AplicaTesis/1DICCIONARIO/dictiocueca.json\".format(logger)\n",
    "FILE_DATASET = \"c:/Users/{}/Documents/AplicaTesis/1DATASET/cueca\".format(logger)\n",
    "DICTIO_PATH = \"c:/Users/{}/Documents/AplicaTesis/1DICCIONARIO/cueca.json\".format(logger)\n",
    "\n",
    "SQ_LENGTH = 64\n",
    "\n",
    "TIME_DURATIONS = [0.125, 0.25, 0.5, 0.75, 1.0, 1.5, 2, 3, 4 ]"
   ]
  },
  {
   "cell_type": "code",
   "execution_count": 3,
   "id": "de62d743",
   "metadata": {},
   "outputs": [],
   "source": [
    "import pathlib\n",
    "\n",
    "def show_m21(mObj, width=None, height=None):\n",
    "    # Save defaults\n",
    "    author = m21.defaults.author\n",
    "    title = m21.defaults.title\n",
    "    # Remove them\n",
    "    m21.defaults.author = None\n",
    "    m21.defaults.title = None\n",
    "    \n",
    "    us = m21.environment.UserSettings() \n",
    "    scratchPath = pathlib.Path(us['directoryScratch'])\n",
    "    fname = mObj.write() #  This writes a temp musicXML file and returns the name\n",
    "    p_mxml = pathlib.Path(fname)\n",
    "    p_out = p_mxml.with_suffix(\".png\")\n",
    "    # Create command string\n",
    "    musescorePath = us['musescoreDirectPNGPath']\n",
    "    musescoreRun = '\"' + str(musescorePath) + '\" ' + str(p_mxml) + ' -o  ' + str(p_out) + ' -T 0 '\n",
    "    #os.system(musescoreRun)\n",
    "    subprocess.run(musescoreRun, shell=True)\n",
    "    png_files = scratchPath.glob(\"*.png\")\n",
    "    base_name = p_mxml.stem\n",
    "    # Restore defaults\n",
    "    m21.defaults.author = author\n",
    "    m21.defaults.title = author\n",
    "    for png in png_files:\n",
    "        if png.match(base_name + \"*\"):\n",
    "            return Image(filename=str(png), width=width, height=height)"
   ]
  },
  {
   "cell_type": "code",
   "execution_count": 4,
   "id": "f2e93f6a",
   "metadata": {},
   "outputs": [],
   "source": [
    "def load_krn(dataset_path):\n",
    "    \"\"\"Carga todas las piezas en formato krn  music21.\n",
    "       :return songs Lista que contiene todas las piezas\n",
    "    \"\"\"\n",
    "    songs = []\n",
    "\n",
    "    # Recorre todos los archivos en el conjunto de datos y los carga con music21\n",
    "    for path, subdirs, files in os.walk(dataset_path):\n",
    "        for file in files:\n",
    "\n",
    "            # Considera solo archivos kern\n",
    "            if file[-3:] == \"krn\":\n",
    "                song = m21.converter.parse(os.path.join(path, file))\n",
    "                songs.append(song)\n",
    "                \n",
    "    # Imprime la lista de canciones\n",
    "    #print(\"Lista de canciones cargadas:\")\n",
    "    #for song in songs:\n",
    "     #   print(song)  # Imprime cada canción\n",
    "\n",
    "    return songs\n"
   ]
  },
  {
   "cell_type": "code",
   "execution_count": 5,
   "id": "19ae3e05",
   "metadata": {},
   "outputs": [],
   "source": [
    "def preprocess(dataset_path):\n",
    "\n",
    "    # Carga las canciones folklóricas\n",
    "    print(\"Cargando canciones...\")\n",
    "    songs = load_krn(dataset_path)\n",
    "    print(f\"Se cargaron {len(songs)} canciones.\")\n",
    "    \n",
    "    for i, song in enumerate(songs):\n",
    "        # Filtra las canciones que tienen duraciones no aceptables\n",
    "        if not durations_of_time(song, TIME_DURATIONS):\n",
    "            continue\n",
    "\n",
    "        # Transpone las canciones a Do mayor/La menor\n",
    "        song = tonality_transpose(song)\n",
    "\n",
    "        # Codifica las canciones con representación de serie temporal musical\n",
    "        encoded_song = encode_topicsong(song)  # Esto no se usa en el código actual\n",
    "\n",
    "        # Guarda las canciones en un archivo de texto\n",
    "        save_path = os.path.join(ITEM_PATH, str(i))\n",
    "        with open(save_path, \"w\") as fp:\n",
    "             fp.write(encoded_song)  # Esto no se usa en el código actual\n",
    "   \n"
   ]
  },
  {
   "cell_type": "code",
   "execution_count": 6,
   "id": "b881e070",
   "metadata": {},
   "outputs": [],
   "source": [
    "def durations_of_time(song, time_durations):\n",
    "    for note in song.flatten().notesAndRests:\n",
    "        if note.duration.quarterLength not in time_durations:\n",
    "            return False\n",
    "    return True"
   ]
  },
  {
   "cell_type": "code",
   "execution_count": 7,
   "id": "561c889a",
   "metadata": {},
   "outputs": [],
   "source": [
    "def tonality_transpose(song):\n",
    "  \n",
    "\n",
    "    # get key from the song\n",
    "    parts = song.getElementsByClass(m21.stream.Part)\n",
    "    measures_part0 = parts[0].getElementsByClass(m21.stream.Measure)\n",
    "    key = measures_part0[0][4]\n",
    "\n",
    "    # estimate key using music21\n",
    "    if not isinstance(key, m21.key.Key):\n",
    "        key = song.analyze(\"key\")\n",
    "\n",
    "    # get interval for transposition. E.g., Bmaj -> Cmaj\n",
    "    if key.mode == \"major\":\n",
    "        interval = m21.interval.Interval(key.tonic, m21.pitch.Pitch(\"C\"))\n",
    "    elif key.mode == \"minor\":\n",
    "        interval = m21.interval.Interval(key.tonic, m21.pitch.Pitch(\"A\"))\n",
    "\n",
    "    # transpose song by calculated interval\n",
    "    tranposed_song = song.transpose(interval)\n",
    "    return tranposed_song\n"
   ]
  },
  {
   "cell_type": "code",
   "execution_count": 8,
   "id": "408dcf24",
   "metadata": {},
   "outputs": [],
   "source": [
    "def encode_topicsong(song, time_step=0.125):\n",
    "  \n",
    "\n",
    "    encoded_song = []\n",
    "\n",
    "    for event in song.flatten().notesAndRests:\n",
    "\n",
    "        # handle notes\n",
    "        if isinstance(event, m21.note.Note):\n",
    "            symbol = event.pitch.midi # 60\n",
    "        # handle rests\n",
    "        elif isinstance(event, m21.note.Rest):\n",
    "            symbol = \"r\"\n",
    "\n",
    "        # convert the note/rest into time series notation\n",
    "        steps = int(event.duration.quarterLength / time_step)\n",
    "        for step in range(steps):\n",
    "\n",
    "            # if it's the first time we see a note/rest, let's encode it. Otherwise, it means we're carrying the same\n",
    "            # symbol in a new time step\n",
    "            if step == 0:\n",
    "                encoded_song.append(symbol)\n",
    "            else:\n",
    "                encoded_song.append(\"_\")\n",
    "\n",
    "    # cast encoded song to str\n",
    "    encoded_song = \" \".join(map(str, encoded_song))\n",
    "\n",
    "    return encoded_song\n"
   ]
  },
  {
   "cell_type": "code",
   "execution_count": 9,
   "id": "39a0d551",
   "metadata": {},
   "outputs": [],
   "source": [
    "def load(file_path):\n",
    "    with open(file_path, \"r\") as fp:\n",
    "        song = fp.read()\n",
    "    return song"
   ]
  },
  {
   "cell_type": "code",
   "execution_count": 10,
   "id": "bce3b61b",
   "metadata": {},
   "outputs": [],
   "source": [
    "def onlyfile_dataset(dataset_path, file_dataset_path, sequence_length):\n",
    "  \n",
    "\n",
    "    new_song_delimiter = \"/ \" * sequence_length\n",
    "    songs = \"\"\n",
    "\n",
    "    # load encoded songs and add delimiters\n",
    "    for path, _, files in os.walk(dataset_path):\n",
    "        for file in files:\n",
    "            file_path = os.path.join(path, file)\n",
    "            song = load(file_path)\n",
    "            songs = songs + song + \" \" + new_song_delimiter\n",
    "\n",
    "    # remove empty space from last character of string\n",
    "    songs = songs[:-1]\n",
    "\n",
    "    # save string that contains all the dataset\n",
    "    with open(file_dataset_path, \"w\") as fp:\n",
    "        fp.write(songs)\n",
    "\n",
    "    return songs"
   ]
  },
  {
   "cell_type": "code",
   "execution_count": 11,
   "id": "d250cfa2",
   "metadata": {},
   "outputs": [],
   "source": [
    "def create_dictio(songs, mapping_path):\n",
    "   \n",
    "    mappings = {}\n",
    "\n",
    "    # identify the vocabulary\n",
    "    songs = songs.split()\n",
    "    vocabulary = list(set(songs))\n",
    "\n",
    "    # create mappings\n",
    "    for i, symbol in enumerate(vocabulary):\n",
    "        mappings[symbol] = i\n",
    "\n",
    "    # save voabulary to a json file\n",
    "    with open(mapping_path, \"w\") as fp:\n",
    "        json.dump(mappings, fp, indent=4)"
   ]
  },
  {
   "cell_type": "code",
   "execution_count": 12,
   "id": "ca59a9d0",
   "metadata": {},
   "outputs": [
    {
     "name": "stdout",
     "output_type": "stream",
     "text": [
      "Cargando canciones...\n",
      "Se cargaron 18 canciones.\n"
     ]
    }
   ],
   "source": [
    "if __name__ == \"__main__\":\n",
    "  \n",
    "    #song = songs[0]\n",
    "    \n",
    "    preprocess(DATASET_PATH)\n",
    "    songs = onlyfile_dataset(ITEM_PATH, FILE_DATASET, SQ_LENGTH)\n",
    "    create_dictio(songs, DICTIO_PATH)\n",
    "    #print(\"-------------------------\")\n",
    "    #song = songs[0]\n",
    "    #show_m21(song)\n",
    "  \n",
    "    #print(f\"Se cargaron {len(songs)} canciones.\")\n",
    "    # transpose song\n",
    "    #transposed_song = transpose(song)\n",
    "    #transposed_song.show()\n",
    "    #song.show\n",
    "    #show_m21(song)\n"
   ]
  },
  {
   "cell_type": "code",
   "execution_count": null,
   "id": "5861ba45",
   "metadata": {},
   "outputs": [],
   "source": []
  }
 ],
 "metadata": {
  "kernelspec": {
   "display_name": "Python 3 (ipykernel)",
   "language": "python",
   "name": "python3"
  },
  "language_info": {
   "codemirror_mode": {
    "name": "ipython",
    "version": 3
   },
   "file_extension": ".py",
   "mimetype": "text/x-python",
   "name": "python",
   "nbconvert_exporter": "python",
   "pygments_lexer": "ipython3",
   "version": "3.10.9"
  }
 },
 "nbformat": 4,
 "nbformat_minor": 5
}
