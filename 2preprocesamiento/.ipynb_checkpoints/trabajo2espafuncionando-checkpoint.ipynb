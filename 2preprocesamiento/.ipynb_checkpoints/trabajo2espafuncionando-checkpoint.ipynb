{
 "cells": [
  {
   "cell_type": "code",
   "execution_count": 25,
   "id": "4085b4ad",
   "metadata": {},
   "outputs": [],
   "source": [
    "import os\n",
    "import json\n",
    "import music21 as m21\n",
    "import numpy as np\n",
    "import tensorflow.keras as keras\n",
    "\n",
    "datosdatatema = \"c:/Users/Davids/Documents/AplicaTesis/testCueca/\"\n",
    "datostemacodi = \"c:/Users/Davids/Documents/AplicaTesis/temacodificado/\"\n",
    "datasetunido = \"c:/Users/Davids/Documents/AplicaTesis/dataset/aplicatesis\"\n",
    "rutadiccionario = \"c:/Users/Davids/Documents/AplicaTesis/diccionario/diccionario.json\"\n",
    "longitudsecuencia = 64\n",
    "\n",
    "# las duraciones se expresan en longitud de negra\n",
    "duraciones = [ 0.125, 0.5, 0.75,1.0,1.5,2,3,4,5,6]\n"
   ]
  },
  {
   "cell_type": "code",
   "execution_count": 26,
   "id": "d6f649af",
   "metadata": {},
   "outputs": [],
   "source": [
    "def cargartemas(ruta_dataset):\n",
    "   \n",
    "    canciones = []\n",
    "\n",
    "    # recorrer todos los archivos en el conjunto de datos y cargarlos con music21\n",
    "    for ruta, subdirectorios, archivos in os.walk(ruta_dataset):\n",
    "        for archivo in archivos:\n",
    "\n",
    "            # considerar solo archivos kern\n",
    "            if archivo[-3:] == \"krn\":\n",
    "                cancion = m21.converter.parse(os.path.join(ruta, archivo))\n",
    "                canciones.append(cancion)\n",
    "    return canciones\n"
   ]
  },
  {
   "cell_type": "code",
   "execution_count": 27,
   "id": "203bbb72",
   "metadata": {},
   "outputs": [],
   "source": [
    "def duracionespermitidas(cancion, duraciones_aceptables):\n",
    "  \n",
    "    for nota in cancion.flatten().notesAndRests:\n",
    "        if nota.duration.quarterLength not in duraciones_aceptables:\n",
    "            return False\n",
    "    return True"
   ]
  },
  {
   "cell_type": "code",
   "execution_count": 28,
   "id": "e7c2b42d",
   "metadata": {},
   "outputs": [],
   "source": [
    "def transponer(cancion):\n",
    "    # obtener la tonalidad de la canción\n",
    "    partes = cancion.getElementsByClass(m21.stream.Part)\n",
    "    compases_parte0 = partes[0].getElementsByClass(m21.stream.Measure)\n",
    "    tonalidad = compases_parte0[0][4]\n",
    "\n",
    "    # estimar la tonalidad usando music21\n",
    "    if not isinstance(tonalidad, m21.key.Key):\n",
    "        tonalidad = cancion.analyze(\"key\")\n",
    "\n",
    "    # obtener el intervalo para la transposición. Por ejemplo, Si mayor -> Do mayor\n",
    "    if tonalidad.mode == \"major\":\n",
    "        intervalo = m21.interval.Interval(tonalidad.tonic, m21.pitch.Pitch(\"C\"))\n",
    "    elif tonalidad.mode == \"minor\":\n",
    "        intervalo = m21.interval.Interval(tonalidad.tonic, m21.pitch.Pitch(\"A\"))\n",
    "\n",
    "    # transponer la canción por el intervalo calculado\n",
    "    cancion_transpuesta = cancion.transpose(intervalo)\n",
    "    return cancion_transpuesta\n"
   ]
  },
  {
   "cell_type": "code",
   "execution_count": 29,
   "id": "9db5987a",
   "metadata": {},
   "outputs": [],
   "source": [
    "def codificar_cancion(cancion, paso_temporal=0.125):\n",
    "    \n",
    "    cancion_codificada = []\n",
    "\n",
    "    for evento in cancion.flatten().notesAndRests:\n",
    "\n",
    "        # manejar notas\n",
    "        if isinstance(evento, m21.note.Note):\n",
    "            simbolo = evento.pitch.midi # 60\n",
    "        # manejar silencios\n",
    "        elif isinstance(evento, m21.note.Rest):\n",
    "            simbolo = \"r\"\n",
    "\n",
    "        # convertir la nota/silencio en notación de serie temporal\n",
    "        pasos = int(evento.duration.quarterLength / paso_temporal)\n",
    "        for paso in range(pasos):\n",
    "\n",
    "            # si es la primera vez que vemos una nota/silencio, la codificamos. De lo contrario, significa que estamos llevando el mismo\n",
    "            # símbolo en un nuevo paso temporal\n",
    "            if paso == 0:\n",
    "                cancion_codificada.append(simbolo)\n",
    "            else:\n",
    "                cancion_codificada.append(\"_\")\n",
    "\n",
    "    # convertir la canción codificada a str\n",
    "    cancion_codificada = \" \".join(map(str, cancion_codificada))\n",
    "\n",
    "    return cancion_codificada"
   ]
  },
  {
   "cell_type": "code",
   "execution_count": 30,
   "id": "895ccf9f",
   "metadata": {},
   "outputs": [],
   "source": [
    "def preprocesar(ruta_dataset):\n",
    "\n",
    "    # cargar canciones folklóricas\n",
    "    print(\"Cargando canciones...\")\n",
    "    canciones = cargar_canciones_en_kern(ruta_dataset)\n",
    "    print(f\"Se cargaron {len(canciones)} canciones.\")\n",
    "\n",
    "    for i, cancion in enumerate(canciones):\n",
    "\n",
    "        # filtrar canciones que tienen duraciones no aceptables\n",
    "        if not tiene_duraciones_aceptables(cancion, DURACIONES_ACEPTABLES):\n",
    "            continue\n",
    "\n",
    "        # transponer canciones a Do mayor/La menor\n",
    "        cancion = transponer(cancion)\n",
    "\n",
    "        # codificar canciones con representación musical de serie temporal\n",
    "        cancion_codificada = codificar_cancion(cancion)\n",
    "\n",
    "        # guardar canciones en archivo de texto\n",
    "        ruta_guardado = os.path.join(DIRECTORIO_GUARDADO, str(i))\n",
    "        with open(ruta_guardado, \"w\") as fp:\n",
    "            fp.write(cancion_codificada)"
   ]
  },
  {
   "cell_type": "code",
   "execution_count": 31,
   "id": "0e613bf7",
   "metadata": {},
   "outputs": [],
   "source": [
    "def cargar(ruta_archivo):\n",
    "    with open(ruta_archivo, \"r\") as fp:\n",
    "        cancion = fp.read()\n",
    "    return cancion\n"
   ]
  },
  {
   "cell_type": "code",
   "execution_count": 32,
   "id": "be790f29",
   "metadata": {},
   "outputs": [],
   "source": [
    "\n",
    "def crear_dataset_individual(dataset_ruta, dataset_archivo_ruta, longitud_secuencia):\n",
    "    \n",
    "    delimitador_nueva_cancion = \"/ \" * longitud_secuencia\n",
    "    canciones = \"\"\n",
    "\n",
    "    # cargar canciones codificadas y agregar delimitadores\n",
    "    for ruta, _, archivos in os.walk(dataset_ruta):\n",
    "        for archivo in archivos:\n",
    "            ruta_archivo = os.path.join(ruta, archivo)\n",
    "            cancion = cargar(ruta_archivo)\n",
    "            canciones = canciones + cancion + \" \" + delimitador_nueva_cancion\n",
    "\n",
    "    # eliminar espacio en blanco del último carácter de la cadena\n",
    "    canciones = canciones[:-1]\n",
    "\n",
    "    # guardar cadena que contiene todo el conjunto de datos\n",
    "    with open(dataset_archivo_ruta, \"w\") as fp:\n",
    "        fp.write(canciones)\n",
    "\n",
    "    return canciones"
   ]
  },
  {
   "cell_type": "code",
   "execution_count": 33,
   "id": "b7db69fc",
   "metadata": {},
   "outputs": [],
   "source": [
    "def crear_mapeo(canciones, ruta_mapeo): \n",
    "  \n",
    "    mapeos = {}\n",
    "\n",
    "    # identificar el vocabulario\n",
    "    canciones = canciones.split()\n",
    "    vocabulario = list(set(canciones))\n",
    "\n",
    "    # crear mapeos\n",
    "    for i, simbolo in enumerate(vocabulario):\n",
    "        mapeos[simbolo] = i\n",
    "\n",
    "    # guardar vocabulario en un archivo json\n",
    "    with open(ruta_mapeo, \"w\") as fp:\n",
    "        json.dump(mapeos, fp, indent=4)\n"
   ]
  },
  {
   "cell_type": "code",
   "execution_count": 34,
   "id": "1c85ae55",
   "metadata": {},
   "outputs": [],
   "source": [
    "def convertir_canciones_a_enteros(canciones):\n",
    "    canciones_enteros = []\n",
    "\n",
    "    # cargar mapeos\n",
    "    with open(RUTA_MAPEO, \"r\") as fp:\n",
    "        mapeos = json.load(fp)\n",
    "\n",
    "    # transformar cadena de canciones a lista\n",
    "    canciones = canciones.split()\n",
    "\n",
    "    # mapear canciones a enteros\n",
    "    for simbolo in canciones:\n",
    "        canciones_enteros.append(mapeos[simbolo])\n",
    "\n",
    "    return canciones_enteros"
   ]
  },
  {
   "cell_type": "code",
   "execution_count": 35,
   "id": "cd048653",
   "metadata": {},
   "outputs": [],
   "source": [
    "\n",
    "def generar_secuencias_entrenamiento(longitud_secuencia):\n",
    "    ver = 0\n",
    "    # cargar canciones y mapearlas a enteros\n",
    "    canciones = cargar(CONJUNTO_DATOS_UNICO)\n",
    "    canciones_enteros = convertir_canciones_a_enteros(canciones)\n",
    "\n",
    "    entradas = []\n",
    "    objetivos = []\n",
    "\n",
    "    # generar las secuencias de entrenamiento\n",
    "    num_secuencias = len(canciones_enteros) - longitud_secuencia\n",
    "    #print(num_secuencias)\n",
    "    for i in range(num_secuencias):\n",
    "        entradas.append(canciones_enteros[i:i+longitud_secuencia])\n",
    "        objetivos.append(canciones_enteros[i+longitud_secuencia])\n",
    "        #print(\"Secuencia de Entrada:\", entradas)\n",
    "        #print(\"Objetivo:\", objetivos)\n",
    "        #print(\"----\")\n",
    "\n",
    "    # codificar en one-hot las secuencias\n",
    "    tamano_vocabulario = len(set(canciones_enteros))\n",
    "    #print(tamano_vocabulario)\n",
    "    # tamaño de entradas: (# de secuencias, longitud de secuencia, tamaño de vocabulario)\n",
    "    \n",
    "    entradas = keras.utils.to_categorical(entradas, num_classes=tamano_vocabulario)\n",
    "    #subset_entradas = entradas[:1]\n",
    "    #np.savetxt('subset_representacion_one_hot.txt', subset_entradas.reshape(subset_entradas.shape[0], -1), fmt='%d')     \n",
    "    objetivos = np.array(objetivos)\n",
    "\n",
    "    return entradas, objetivos\n"
   ]
  },
  {
   "cell_type": "code",
   "execution_count": 36,
   "id": "8f50e549",
   "metadata": {},
   "outputs": [
    {
     "name": "stdout",
     "output_type": "stream",
     "text": [
      "Cargando canciones...\n",
      "Se cargaron 17 canciones.\n",
      "376098\n",
      "52\n"
     ]
    }
   ],
   "source": [
    "\n",
    "def main():\n",
    "    preprocesar(datosdatatema)\n",
    "    canciones = crear_dataset_individual(datostemacodi, datasetunido, longitudsecuencia)\n",
    "    crear_mapeo(canciones, RUTA_MAPEO)\n",
    "    entradas, objetivos = generar_secuencias_entrenamiento(longitudsecuencia)\n",
    "\n",
    "\n",
    "if __name__ == \"__main__\":\n",
    "    main()\n",
    "\n"
   ]
  },
  {
   "cell_type": "code",
   "execution_count": null,
   "id": "aa1f702f",
   "metadata": {},
   "outputs": [],
   "source": [
    "#!jupyter nbconvert --to script preprocesamiento.ipynb\n",
    "\n"
   ]
  },
  {
   "cell_type": "code",
   "execution_count": null,
   "id": "4fc4f50d",
   "metadata": {},
   "outputs": [],
   "source": []
  }
 ],
 "metadata": {
  "kernelspec": {
   "display_name": "Python 3 (ipykernel)",
   "language": "python",
   "name": "python3"
  },
  "language_info": {
   "codemirror_mode": {
    "name": "ipython",
    "version": 3
   },
   "file_extension": ".py",
   "mimetype": "text/x-python",
   "name": "python",
   "nbconvert_exporter": "python",
   "pygments_lexer": "ipython3",
   "version": "3.11.5"
  }
 },
 "nbformat": 4,
 "nbformat_minor": 5
}
