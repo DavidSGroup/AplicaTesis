{
 "cells": [
  {
   "cell_type": "code",
   "execution_count": 15,
   "id": "4085b4ad",
   "metadata": {},
   "outputs": [],
   "source": [
    "import os\n",
    "import json\n",
    "import music21 as m21\n",
    "import numpy as np\n",
    "import tensorflow.keras as keras\n",
    "logger=\"win10Davids\"\n",
    "DATASET_PATH = \"c:/Users/{}/Documents/AplicaTesis/1TESTCUECA/\".format(logger)\n",
    "ITEM_PATH = \"c:/Users/{}/Documents/AplicaTesis/1CODEDITEM/\".format(logger)\n",
    "#FILE_DATASET = \"c:/Users/{}/Documents/AplicaTesis/1DATASET/aplicatesis\".format(logger)\n",
    "#DICTIO_PATH = \"c:/Users/{}/Documents/AplicaTesis/1DICCIONARIO/dictiocueca.json\".format(logger)\n",
    "FILE_DATASET = \"c:/Users/{}/Documents/AplicaTesis/1DATASET/cueca\".format(logger)\n",
    "DICTIO_PATH = \"c:/Users/{}/Documents/AplicaTesis/1DICCIONARIO/cueca.json\".format(logger)\n",
    "SQ_LENGTH = 64\n",
    "\n",
    "\n",
    "TIME_DURATIONS = [0.125, 0.25, 0.5, 0.75, 1.0, 1.5, 2, 3, 4 ]\n"
   ]
  },
  {
   "cell_type": "code",
   "execution_count": 16,
   "id": "b70e7c69",
   "metadata": {},
   "outputs": [],
   "source": [
    "def load_krn(dataset_path):\n",
    "    \"\"\"Carga todas las piezas en formato krn  music21.\n",
    "       :return songs Lista que contiene todas las piezas\n",
    "    \"\"\"\n",
    "    songs = []\n",
    "\n",
    "    # Recorre todos los archivos en el conjunto de datos y los carga con music21\n",
    "    for path, subdirs, files in os.walk(dataset_path):\n",
    "        for file in files:\n",
    "\n",
    "            # Considera solo archivos kern\n",
    "            if file[-3:] == \"krn\":\n",
    "                song = m21.converter.parse(os.path.join(path, file))\n",
    "                songs.append(song)\n",
    "                \n",
    "    # Imprime la lista de canciones\n",
    "    #print(\"Lista de canciones cargadas:\")\n",
    "    #for song in songs:\n",
    "     #   print(song)  # Imprime cada canción\n",
    "\n",
    "    return songs"
   ]
  },
  {
   "cell_type": "code",
   "execution_count": 17,
   "id": "203bbb72",
   "metadata": {},
   "outputs": [],
   "source": [
    "def durations_of_time(song, time_durations):\n",
    "    for note in song.flatten().notesAndRests:\n",
    "        if note.duration.quarterLength not in time_durations:\n",
    "            return False\n",
    "    return True"
   ]
  },
  {
   "cell_type": "code",
   "execution_count": 18,
   "id": "e7c2b42d",
   "metadata": {},
   "outputs": [],
   "source": [
    "def tonality_transpose(song):\n",
    "  \n",
    "\n",
    "    # get key from the song\n",
    "    parts = song.getElementsByClass(m21.stream.Part)\n",
    "    measures_part0 = parts[0].getElementsByClass(m21.stream.Measure)\n",
    "    key = measures_part0[0][4]\n",
    "\n",
    "    # estimate key using music21\n",
    "    if not isinstance(key, m21.key.Key):\n",
    "        key = song.analyze(\"key\")\n",
    "\n",
    "    # get interval for transposition. E.g., Bmaj -> Cmaj\n",
    "    if key.mode == \"major\":\n",
    "        interval = m21.interval.Interval(key.tonic, m21.pitch.Pitch(\"C\"))\n",
    "    elif key.mode == \"minor\":\n",
    "        interval = m21.interval.Interval(key.tonic, m21.pitch.Pitch(\"A\"))\n",
    "\n",
    "    # transpose song by calculated interval\n",
    "    tranposed_song = song.transpose(interval)\n",
    "    return tranposed_song\n",
    "\n"
   ]
  },
  {
   "cell_type": "code",
   "execution_count": 19,
   "id": "9db5987a",
   "metadata": {},
   "outputs": [],
   "source": [
    "def encode_topicsong(song, time_step=0.125):\n",
    "  \n",
    "\n",
    "    encoded_song = []\n",
    "\n",
    "    for event in song.flatten().notesAndRests:\n",
    "\n",
    "        # handle notes\n",
    "        if isinstance(event, m21.note.Note):\n",
    "            symbol = event.pitch.midi # 60\n",
    "        # handle rests\n",
    "        elif isinstance(event, m21.note.Rest):\n",
    "            symbol = \"r\"\n",
    "\n",
    "        # convert the note/rest into time series notation\n",
    "        steps = int(event.duration.quarterLength / time_step)\n",
    "        for step in range(steps):\n",
    "\n",
    "            # if it's the first time we see a note/rest, let's encode it. Otherwise, it means we're carrying the same\n",
    "            # symbol in a new time step\n",
    "            if step == 0:\n",
    "                encoded_song.append(symbol)\n",
    "            else:\n",
    "                encoded_song.append(\"_\")\n",
    "\n",
    "    # cast encoded song to str\n",
    "    encoded_song = \" \".join(map(str, encoded_song))\n",
    "\n",
    "    return encoded_song"
   ]
  },
  {
   "cell_type": "code",
   "execution_count": 20,
   "id": "895ccf9f",
   "metadata": {},
   "outputs": [],
   "source": [
    "def preprocess(dataset_path):\n",
    "\n",
    "    # Carga las canciones folklóricas\n",
    "    print(\"Cargando canciones...\")\n",
    "    songs = load_krn(dataset_path)\n",
    "    print(f\"Se cargaron {len(songs)} canciones.\")\n",
    "    \n",
    "    for i, song in enumerate(songs):\n",
    "        # Filtra las canciones que tienen duraciones no aceptables\n",
    "        if not durations_of_time(song, TIME_DURATIONS):\n",
    "            continue\n",
    "\n",
    "        # Transpone las canciones a Do mayor/La menor\n",
    "        song = tonality_transpose(song)\n",
    "\n",
    "        # Codifica las canciones con representación de serie temporal musical\n",
    "        encoded_song = encode_topicsong(song)  # Esto no se usa en el código actual\n",
    "\n",
    "        # Guarda las canciones en un archivo de texto\n",
    "        save_path = os.path.join(ITEM_PATH, str(i))\n",
    "        with open(save_path, \"w\") as fp:\n",
    "             fp.write(encoded_song)  # Esto no se usa en el código actual"
   ]
  },
  {
   "cell_type": "code",
   "execution_count": 21,
   "id": "0e613bf7",
   "metadata": {},
   "outputs": [],
   "source": [
    "def load(file_path):\n",
    "    with open(file_path, \"r\") as fp:\n",
    "        song = fp.read()\n",
    "    return song\n"
   ]
  },
  {
   "cell_type": "code",
   "execution_count": 22,
   "id": "be790f29",
   "metadata": {},
   "outputs": [],
   "source": [
    "def onlyfile_dataset(dataset_path, file_dataset_path, sequence_length):\n",
    "  \n",
    "\n",
    "    new_song_delimiter = \"/ \" * sequence_length\n",
    "    songs = \"\"\n",
    "\n",
    "    # load encoded songs and add delimiters\n",
    "    for path, _, files in os.walk(dataset_path):\n",
    "        for file in files:\n",
    "            file_path = os.path.join(path, file)\n",
    "            song = load(file_path)\n",
    "            songs = songs + song + \" \" + new_song_delimiter\n",
    "\n",
    "    # remove empty space from last character of string\n",
    "    songs = songs[:-1]\n",
    "\n",
    "    # save string that contains all the dataset\n",
    "    with open(file_dataset_path, \"w\") as fp:\n",
    "        fp.write(songs)\n",
    "\n",
    "    return songs"
   ]
  },
  {
   "cell_type": "code",
   "execution_count": 23,
   "id": "b7db69fc",
   "metadata": {},
   "outputs": [],
   "source": [
    "def create_dictio(songs, mapping_path):\n",
    "   \n",
    "    mappings = {}\n",
    "\n",
    "    # identify the vocabulary\n",
    "    songs = songs.split()\n",
    "    vocabulary = list(set(songs))\n",
    "\n",
    "    # create mappings\n",
    "    for i, symbol in enumerate(vocabulary):\n",
    "        mappings[symbol] = i\n",
    "\n",
    "    # save voabulary to a json file\n",
    "    with open(mapping_path, \"w\") as fp:\n",
    "        json.dump(mappings, fp, indent=4)\n"
   ]
  },
  {
   "cell_type": "code",
   "execution_count": 24,
   "id": "1c85ae55",
   "metadata": {},
   "outputs": [],
   "source": [
    "def convert_songs_to_int(songs):\n",
    "    int_songs = []\n",
    "\n",
    "    # load mappings\n",
    "    with open(DICTIO_PATH, \"r\") as fp:\n",
    "        mappings = json.load(fp)\n",
    "\n",
    "    # transform songs string to list\n",
    "    songs = songs.split()\n",
    "\n",
    "    # map songs to int\n",
    "    for symbol in songs:\n",
    "        int_songs.append(mappings[symbol])\n",
    "\n",
    "    return int_songs\n"
   ]
  },
  {
   "cell_type": "code",
   "execution_count": 25,
   "id": "cd048653",
   "metadata": {},
   "outputs": [],
   "source": [
    "\n",
    "def gtraining_sequences(sequence_length):\n",
    "    \"\"\"entrada y salida para entrenamiento,64 notas\n",
    "    :return inputs (ndarray): datos de entrada,return targets (ndarray): datos desalida\n",
    "    \"\"\"\n",
    "    # carga ataset\n",
    "    songs = load(FILE_DATASET)\n",
    "    int_songs = convert_songs_to_int(songs)\n",
    "\n",
    "    inputs = []\n",
    "    targets = []\n",
    "\n",
    "    # genera sequencias\n",
    "    num_sequences = len(int_songs) - sequence_length\n",
    "    for i in range(num_sequences):\n",
    "        inputs.append(int_songs[i:i+sequence_length])\n",
    "        targets.append(int_songs[i+sequence_length])\n",
    "\n",
    "    # one-hot \n",
    "    vocabulary_size = len(set(int_songs))\n",
    "    # inputs size: (# of sequences, sequence length, vocabulary size)\n",
    "    inputs = keras.utils.to_categorical(inputs, num_classes=vocabulary_size)\n",
    "    targets = np.array(targets)\n",
    "\n",
    "    return inputs, targets\n"
   ]
  },
  {
   "cell_type": "code",
   "execution_count": 26,
   "id": "8f50e549",
   "metadata": {},
   "outputs": [
    {
     "name": "stdout",
     "output_type": "stream",
     "text": [
      "Cargando canciones...\n",
      "Se cargaron 18 canciones.\n"
     ]
    }
   ],
   "source": [
    "\n",
    "def main():\n",
    "    preprocess(DATASET_PATH)\n",
    "    songs = onlyfile_dataset(ITEM_PATH, FILE_DATASET, SQ_LENGTH)\n",
    "    create_dictio(songs, DICTIO_PATH)\n",
    "    inputs, targets = gtraining_sequences(SQ_LENGTH)\n",
    "\n",
    "\n",
    "if __name__ == \"__main__\":\n",
    "    main()\n",
    "\n"
   ]
  },
  {
   "cell_type": "code",
   "execution_count": 27,
   "id": "aa1f702f",
   "metadata": {},
   "outputs": [
    {
     "name": "stderr",
     "output_type": "stream",
     "text": [
      "[NbConvertApp] Converting notebook preprocesamiento.ipynb to script\n",
      "[NbConvertApp] Writing 6774 bytes to preprocesamiento.py\n"
     ]
    }
   ],
   "source": [
    "#!jupyter nbconvert --to script preprocesamiento.ipynb\n",
    "\n"
   ]
  },
  {
   "cell_type": "code",
   "execution_count": null,
   "id": "566eb68f",
   "metadata": {},
   "outputs": [],
   "source": []
  },
  {
   "cell_type": "code",
   "execution_count": null,
   "id": "d550e450",
   "metadata": {},
   "outputs": [],
   "source": []
  }
 ],
 "metadata": {
  "kernelspec": {
   "display_name": "Python 3 (ipykernel)",
   "language": "python",
   "name": "python3"
  },
  "language_info": {
   "codemirror_mode": {
    "name": "ipython",
    "version": 3
   },
   "file_extension": ".py",
   "mimetype": "text/x-python",
   "name": "python",
   "nbconvert_exporter": "python",
   "pygments_lexer": "ipython3",
   "version": "3.10.9"
  }
 },
 "nbformat": 4,
 "nbformat_minor": 5
}
