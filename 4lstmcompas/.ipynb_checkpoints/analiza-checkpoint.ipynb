{
 "cells": [
  {
   "cell_type": "code",
   "execution_count": 14,
   "id": "7a2f26f8",
   "metadata": {},
   "outputs": [],
   "source": [
    "import re\n",
    "import json\n",
    "import music21 as m21\n",
    "from music21 import stream, note, meter, metadata\n",
    "from music21.stream import Part \n",
    "import numpy as np"
   ]
  },
  {
   "cell_type": "code",
   "execution_count": 15,
   "id": "956c1eb5",
   "metadata": {},
   "outputs": [],
   "source": [
    "archivo='C:/Users/Davids/Documents/AplicaTesis/4lstmcompas/analisis/compuesto.txt'\n",
    "dataj='C:/Users/Davids/Documents/AplicaTesis/4lstmcompas/analisis/datos.json'\n"
   ]
  },
  {
   "cell_type": "code",
   "execution_count": 16,
   "id": "6b9b49c8",
   "metadata": {},
   "outputs": [
    {
     "name": "stdout",
     "output_type": "stream",
     "text": [
      "[67, 65, 64, 61, 57, 66, 64, 64, 64, 64, 62, 60, 62, 57, 57, 64, 62, 64, 64, 67, 67, 62, 60, 60, 62, 64, 64, 69, 69, 67, 64, 64, 69, 69, 67, 64, 64, 69, 69, 67, 64, 64, 60, 60, 62, 64, 62, 64, 67, 67, 62, 62, 67, 67, 67, 65, 64, 64, 60, 60, 62, 64, 62, 64, 67, 67, 62, 62, 67, 67, 67, 62, 60, 60, 60, 64, 64, 64, 62, 60, 60, 64, 64, 64, 67, 65, 64, 61, 57, 66, 64, 64, 64, 64, 62, 60, 60, 59, 57, 62, 64, 64, 64, 67, 67, 65, 62, 62, 67, 67, 67, 67, 65, 64, 64, 64, 64, 67, 67, 62, 62, 67, 67, 67, 62, 60, 60, 60, 62, 64, 64, 67, 62, 60]\n",
      "134\n",
      "Array de  '_': [12, 4, 8, 8, 8, 8, 16, 8, 4, 4, 4, 4, 8, 4, 11, 4, 4, 4, 4, 8, 8, 4, 19, 4, 4, 4, 4, 4, 8, 4, 4, 4, 4, 8, 4, 4, 4, 4, 8, 4, 16, 11, 4, 4, 4, 4, 4, 4, 8, 8, 4, 4, 8, 4, 8, 4, 16, 11, 4, 4, 4, 4, 4, 4, 8, 8, 4, 4, 8, 4, 8, 4, 16, 11, 8, 8, 4, 4, 4, 16, 11, 8, 4, 4, 12, 4, 8, 8, 8, 8, 16, 8, 4, 4, 4, 4, 8, 4, 8, 4, 4, 4, 4, 4, 4, 4, 4, 8, 12, 8, 4, 8, 4, 8, 4, 4, 4, 8, 8, 4, 4, 8, 4, 8, 4, 16, 11, 4, 4, 4, 4, 8, 4, 16]\n",
      "Array de  '_': 134\n",
      "Los datos se han guardado en C:/Users/Davids/Documents/AplicaTesis/4lstmcompas/analisis/datos.json\n"
     ]
    },
    {
     "data": {
      "text/plain": [
       "[12,\n",
       " 4,\n",
       " 8,\n",
       " 8,\n",
       " 8,\n",
       " 8,\n",
       " 16,\n",
       " 8,\n",
       " 4,\n",
       " 4,\n",
       " 4,\n",
       " 4,\n",
       " 8,\n",
       " 4,\n",
       " 11,\n",
       " 4,\n",
       " 4,\n",
       " 4,\n",
       " 4,\n",
       " 8,\n",
       " 8,\n",
       " 4,\n",
       " 19,\n",
       " 4,\n",
       " 4,\n",
       " 4,\n",
       " 4,\n",
       " 4,\n",
       " 8,\n",
       " 4,\n",
       " 4,\n",
       " 4,\n",
       " 4,\n",
       " 8,\n",
       " 4,\n",
       " 4,\n",
       " 4,\n",
       " 4,\n",
       " 8,\n",
       " 4,\n",
       " 16,\n",
       " 11,\n",
       " 4,\n",
       " 4,\n",
       " 4,\n",
       " 4,\n",
       " 4,\n",
       " 4,\n",
       " 8,\n",
       " 8,\n",
       " 4,\n",
       " 4,\n",
       " 8,\n",
       " 4,\n",
       " 8,\n",
       " 4,\n",
       " 16,\n",
       " 11,\n",
       " 4,\n",
       " 4,\n",
       " 4,\n",
       " 4,\n",
       " 4,\n",
       " 4,\n",
       " 8,\n",
       " 8,\n",
       " 4,\n",
       " 4,\n",
       " 8,\n",
       " 4,\n",
       " 8,\n",
       " 4,\n",
       " 16,\n",
       " 11,\n",
       " 8,\n",
       " 8,\n",
       " 4,\n",
       " 4,\n",
       " 4,\n",
       " 16,\n",
       " 11,\n",
       " 8,\n",
       " 4,\n",
       " 4,\n",
       " 12,\n",
       " 4,\n",
       " 8,\n",
       " 8,\n",
       " 8,\n",
       " 8,\n",
       " 16,\n",
       " 8,\n",
       " 4,\n",
       " 4,\n",
       " 4,\n",
       " 4,\n",
       " 8,\n",
       " 4,\n",
       " 8,\n",
       " 4,\n",
       " 4,\n",
       " 4,\n",
       " 4,\n",
       " 4,\n",
       " 4,\n",
       " 4,\n",
       " 4,\n",
       " 8,\n",
       " 12,\n",
       " 8,\n",
       " 4,\n",
       " 8,\n",
       " 4,\n",
       " 8,\n",
       " 4,\n",
       " 4,\n",
       " 4,\n",
       " 8,\n",
       " 8,\n",
       " 4,\n",
       " 4,\n",
       " 8,\n",
       " 4,\n",
       " 8,\n",
       " 4,\n",
       " 16,\n",
       " 11,\n",
       " 4,\n",
       " 4,\n",
       " 4,\n",
       " 4,\n",
       " 8,\n",
       " 4,\n",
       " 16]"
      ]
     },
     "execution_count": 16,
     "metadata": {},
     "output_type": "execute_result"
    }
   ],
   "source": [
    "def contar_antes_de_numeros(archivo):\n",
    "    with open(archivo, 'r') as file:\n",
    "        contenido = file.read()\n",
    "\n",
    "        # Encuentra todos los números en el contenido\n",
    "        numeros = [int(numero) for numero in re.findall(r'\\d+', contenido)]\n",
    "        numeros.pop()\n",
    "        print((numeros))\n",
    "        print(len(numeros))\n",
    "\n",
    "        # Inicializa el array para almacenar los recuentos\n",
    "        recuentos_underscore = []\n",
    "\n",
    "        # Inicializa el contador de '_' antes del primer número\n",
    "        contador_underscore = 0\n",
    "\n",
    "        for caracter in contenido:\n",
    "            if caracter == '_':\n",
    "                contador_underscore += 1\n",
    "            elif caracter.isdigit():\n",
    "                recuentos_underscore.append(contador_underscore)\n",
    "                contador_underscore = 0\n",
    "\n",
    "        # Imprime el array de recuentos\n",
    "        #print(\"Array de recuentos de '_':\", recuentos_underscore)\n",
    "        array_sin_ceros = list(filter(lambda x: x != 0, recuentos_underscore))\n",
    "        #print(\"Array de  '_':\", array_sin_ceros)\n",
    "        array_modificado = list(map(lambda x: x + 1, array_sin_ceros))\n",
    "        print(\"Array de  '_':\", array_modificado)\n",
    "        print(\"Array de  '_':\", len(array_modificado))\n",
    "        \n",
    "        # Combina los dos arrays emparejando los elementos correspondientes\n",
    "        data = [{\"notaMIDI\": elem1, \"tiempo\": elem2} for elem1, elem2 in zip(numeros, array_modificado)]\n",
    "\n",
    "        # Especifica el nombre del archivo de salida\n",
    "        #archivo_salida = \"datos.json\"\n",
    "\n",
    "        # Guarda el contenido en formato JSON en el archivo\n",
    "        with open(dataj, 'w') as file:\n",
    "            json.dump(data, file, indent=2)\n",
    "\n",
    "        print(f\"Los datos se han guardado en {dataj}\")\n",
    "        return array_modificado\n",
    "# Ejemplo de uso\n",
    "contar_antes_de_numeros(archivo)"
   ]
  },
  {
   "cell_type": "code",
   "execution_count": 17,
   "id": "e57adc1b",
   "metadata": {},
   "outputs": [],
   "source": [
    "def buscar_subsecuencia(array, subsecuencia):\n",
    "    n = len(array)\n",
    "    m = len(subsecuencia)\n",
    "\n",
    "    for i in range(n - m + 1):\n",
    "        # Convierte las sublistas a conjuntos y verifica si son iguales\n",
    "        if set(array[i:i+m]) == set(subsecuencia):\n",
    "            return True\n",
    "\n",
    "    return False"
   ]
  },
  {
   "cell_type": "code",
   "execution_count": 18,
   "id": "6bfa348b",
   "metadata": {},
   "outputs": [],
   "source": [
    "def contar_patrones_presentes(array, patrones):\n",
    "    conteo_patrones = {tuple(patron): 0 for patron in patrones}\n",
    "\n",
    "    n = len(array)\n",
    "\n",
    "    for i in range(n):\n",
    "        for patron in patrones:\n",
    "            m = len(patron)\n",
    "            if i + m <= n and set(array[i:i+m]) == set(patron):\n",
    "                conteo_patrones[tuple(patron)] += 1\n",
    "\n",
    "    return conteo_patrones"
   ]
  },
  {
   "cell_type": "code",
   "execution_count": 23,
   "id": "f30160f2",
   "metadata": {},
   "outputs": [
    {
     "name": "stdout",
     "output_type": "stream",
     "text": [
      "[67, 65, 64, 61, 57, 66, 64, 64, 64, 64, 62, 60, 62, 57, 57, 64, 62, 64, 64, 67, 67, 62, 60, 60, 62, 64, 64, 69, 69, 67, 64, 64, 69, 69, 67, 64, 64, 69, 69, 67, 64, 64, 60, 60, 62, 64, 62, 64, 67, 67, 62, 62, 67, 67, 67, 65, 64, 64, 60, 60, 62, 64, 62, 64, 67, 67, 62, 62, 67, 67, 67, 62, 60, 60, 60, 64, 64, 64, 62, 60, 60, 64, 64, 64, 67, 65, 64, 61, 57, 66, 64, 64, 64, 64, 62, 60, 60, 59, 57, 62, 64, 64, 64, 67, 67, 65, 62, 62, 67, 67, 67, 67, 65, 64, 64, 64, 64, 67, 67, 62, 62, 67, 67, 67, 62, 60, 60, 60, 62, 64, 64, 67, 62, 60]\n",
      "134\n",
      "Array de  '_': [12, 4, 8, 8, 8, 8, 16, 8, 4, 4, 4, 4, 8, 4, 11, 4, 4, 4, 4, 8, 8, 4, 19, 4, 4, 4, 4, 4, 8, 4, 4, 4, 4, 8, 4, 4, 4, 4, 8, 4, 16, 11, 4, 4, 4, 4, 4, 4, 8, 8, 4, 4, 8, 4, 8, 4, 16, 11, 4, 4, 4, 4, 4, 4, 8, 8, 4, 4, 8, 4, 8, 4, 16, 11, 8, 8, 4, 4, 4, 16, 11, 8, 4, 4, 12, 4, 8, 8, 8, 8, 16, 8, 4, 4, 4, 4, 8, 4, 8, 4, 4, 4, 4, 4, 4, 4, 4, 8, 12, 8, 4, 8, 4, 8, 4, 4, 4, 8, 8, 4, 4, 8, 4, 8, 4, 16, 11, 4, 4, 4, 4, 8, 4, 16]\n",
      "Array de  '_': 134\n",
      "Los datos se han guardado en C:/Users/Davids/Documents/AplicaTesis/4lstmcompas/analisis/datos.json\n",
      "Patrón (12, 4, 8): 4 veces\n",
      "Patrón (8, 8, 8): 4 veces\n",
      "Patrón (8, 4, 4, 8): 59 veces\n",
      "Patrón (16, 8): 4 veces\n",
      "Patrón (8, 16, 8, 16): 4 veces\n",
      "Patrón (48,): 0 veces\n",
      "Patrón (4, 12, 8): 4 veces\n",
      "dict_items([((12, 4, 8), 4), ((8, 8, 8), 4), ((8, 4, 4, 8), 59), ((16, 8), 4), ((8, 16, 8, 16), 4), ((48,), 0), ((4, 12, 8), 4)])\n"
     ]
    }
   ],
   "source": [
    "array_modificado=contar_antes_de_numeros(archivo)\n",
    "patron1 = np.array([12, 4, 8,])\n",
    "patron2 = np.array([8, 8, 8,])\n",
    "patron3 = np.array([16, 8,16,8])\n",
    "patron4 = np.array([8,4, 4, 8])\n",
    "patron5 = np.array([16, 8])#24\n",
    "patron6 = np.array([8,16,8,16])\n",
    "patron7 = np.array([48])\n",
    "patron8 = np.array([4,12,8])\n",
    "# Define una lista de patrones\n",
    "patrones = [patron1, patron2, patron4, patron5, patron6, patron7 ,patron8]\n",
    "\n",
    "conteo = contar_patrones_presentes(array_modificado, patrones)\n",
    "\n",
    "# Imprime el conteo de patrones\n",
    "for patron, cantidad in conteo.items():\n",
    "    print(f\"Patrón {patron}: {cantidad} veces\")\n",
    "print(conteo.items())    "
   ]
  },
  {
   "cell_type": "code",
   "execution_count": 12,
   "id": "fdbd0e67",
   "metadata": {},
   "outputs": [
    {
     "data": {
      "text/plain": [
       "16.75"
      ]
     },
     "execution_count": 12,
     "metadata": {},
     "output_type": "execute_result"
    }
   ],
   "source": [
    "134/8\n"
   ]
  },
  {
   "cell_type": "code",
   "execution_count": 8,
   "id": "f97f1e69",
   "metadata": {},
   "outputs": [
    {
     "data": {
      "text/plain": [
       "44.666666666666664"
      ]
     },
     "execution_count": 8,
     "metadata": {},
     "output_type": "execute_result"
    }
   ],
   "source": [
    "134/3\n"
   ]
  },
  {
   "cell_type": "code",
   "execution_count": 9,
   "id": "e3a9408c",
   "metadata": {},
   "outputs": [
    {
     "data": {
      "text/plain": [
       "0.5454545454545454"
      ]
     },
     "execution_count": 9,
     "metadata": {},
     "output_type": "execute_result"
    }
   ],
   "source": [
    "24/44\n"
   ]
  },
  {
   "cell_type": "code",
   "execution_count": 10,
   "id": "a9303fde",
   "metadata": {},
   "outputs": [
    {
     "data": {
      "text/plain": [
       "0.75"
      ]
     },
     "execution_count": 10,
     "metadata": {},
     "output_type": "execute_result"
    }
   ],
   "source": [
    "6/8\n"
   ]
  },
  {
   "cell_type": "code",
   "execution_count": null,
   "id": "393efe7c",
   "metadata": {},
   "outputs": [],
   "source": []
  }
 ],
 "metadata": {
  "kernelspec": {
   "display_name": "Python 3 (ipykernel)",
   "language": "python",
   "name": "python3"
  },
  "language_info": {
   "codemirror_mode": {
    "name": "ipython",
    "version": 3
   },
   "file_extension": ".py",
   "mimetype": "text/x-python",
   "name": "python",
   "nbconvert_exporter": "python",
   "pygments_lexer": "ipython3",
   "version": "3.11.5"
  }
 },
 "nbformat": 4,
 "nbformat_minor": 5
}
