{
 "cells": [
  {
   "cell_type": "code",
   "execution_count": null,
   "id": "b8745066",
   "metadata": {},
   "outputs": [],
   "source": [
    "import re\n",
    "import json\n",
    "import music21 as m21\n",
    "from music21 import stream, note, meter, metadata\n",
    "from music21.stream import Part "
   ]
  },
  {
   "cell_type": "code",
   "execution_count": null,
   "id": "084bcfcc",
   "metadata": {},
   "outputs": [],
   "source": [
    "archivo='C:/Users/Davids/Documents/AplicaTesis/4lstmcompas/analisis/dos.txt'\n",
    "dataj='C:/Users/Davids/Documents/AplicaTesis/4lstmcompas/analisis/datos.json'\n"
   ]
  },
  {
   "cell_type": "code",
   "execution_count": null,
   "id": "f520e6a6",
   "metadata": {},
   "outputs": [],
   "source": [
    "def contar_antes_de_numeros(archivo):\n",
    "    with open(archivo, 'r') as file:\n",
    "        contenido = file.read()\n",
    "\n",
    "        # Encuentra todos los números en el contenido\n",
    "        numeros = [int(numero) for numero in re.findall(r'\\d+', contenido)]\n",
    "        numeros.pop()\n",
    "        print((numeros))\n",
    "        print(len(numeros))\n",
    "\n",
    "        # Inicializa el array para almacenar los recuentos\n",
    "        recuentos_underscore = []\n",
    "\n",
    "        # Inicializa el contador de '_' antes del primer número\n",
    "        contador_underscore = 0\n",
    "\n",
    "        for caracter in contenido:\n",
    "            if caracter == '_':\n",
    "                contador_underscore += 1\n",
    "            elif caracter.isdigit():\n",
    "                recuentos_underscore.append(contador_underscore)\n",
    "                contador_underscore = 0\n",
    "\n",
    "        # Imprime el array de recuentos\n",
    "        #print(\"Array de recuentos de '_':\", recuentos_underscore)\n",
    "        array_sin_ceros = list(filter(lambda x: x != 0, recuentos_underscore))\n",
    "        #print(\"Array de  '_':\", array_sin_ceros)\n",
    "        array_modificado = list(map(lambda x: x + 1, array_sin_ceros))\n",
    "        print(\"Array de  '_':\", array_modificado)\n",
    "        print(\"Array de  '_':\", len(array_modificado))\n",
    "        \n",
    "        # Combina los dos arrays emparejando los elementos correspondientes\n",
    "        data = [{\"notaMIDI\": elem1, \"tiempo\": elem2} for elem1, elem2 in zip(numeros, array_modificado)]\n",
    "\n",
    "        # Especifica el nombre del archivo de salida\n",
    "        #archivo_salida = \"datos.json\"\n",
    "\n",
    "        # Guarda el contenido en formato JSON en el archivo\n",
    "        with open(dataj, 'w') as file:\n",
    "            json.dump(data, file, indent=2)\n",
    "\n",
    "        print(f\"Los datos se han guardado en {dataj}\")\n",
    "# Ejemplo de uso\n",
    "contar_antes_de_numeros(archivo)"
   ]
  },
  {
   "cell_type": "code",
   "execution_count": null,
   "id": "287e1989",
   "metadata": {},
   "outputs": [],
   "source": [
    "import json\n",
    "from music21 import stream, note, meter, metadata\n",
    "import music21 as m21\n",
    "\n",
    "stream = m21.stream.Stream()\n",
    "time_signature = m21.meter.TimeSignature('6/8')\n",
    "stream.append(time_signature)\n",
    "    \n",
    "start_symbol = None\n",
    "step_duration = 0.125\n",
    "step_counter = 1\n",
    "\n",
    "# Asumiendo que tienes un archivo JSON llamado 'datos_music21.json'\n",
    "with open(dataj, 'r') as file:\n",
    "    data = json.load(file)\n",
    "    for elemento in data:\n",
    "        nota_midi = elemento[\"notaMIDI\"]\n",
    "        tiempo = elemento[\"tiempo\"]\n",
    "\n",
    "        # Crea un objeto Note de music21\n",
    "        nueva_nota = note.Note(nota_midi)\n",
    "        nueva_nota.duration.quarterLength =( tiempo*0.125)/2\n",
    "\n",
    "        # Agrega la nota a la partitura\n",
    "        stream.append(nueva_nota)\n",
    "\n",
    "# Muestra la partitura después de agregar todas las notas\n",
    "stream.show()\n",
    "\n"
   ]
  },
  {
   "cell_type": "code",
   "execution_count": null,
   "id": "373a3b85",
   "metadata": {},
   "outputs": [],
   "source": []
  },
  {
   "cell_type": "code",
   "execution_count": null,
   "id": "a1a0b22e",
   "metadata": {},
   "outputs": [],
   "source": []
  }
 ],
 "metadata": {
  "kernelspec": {
   "display_name": "Python 3 (ipykernel)",
   "language": "python",
   "name": "python3"
  },
  "language_info": {
   "codemirror_mode": {
    "name": "ipython",
    "version": 3
   },
   "file_extension": ".py",
   "mimetype": "text/x-python",
   "name": "python",
   "nbconvert_exporter": "python",
   "pygments_lexer": "ipython3",
   "version": "3.11.5"
  }
 },
 "nbformat": 4,
 "nbformat_minor": 5
}
