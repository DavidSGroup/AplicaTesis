{
 "cells": [
  {
   "cell_type": "code",
   "execution_count": 12,
   "id": "49c75337",
   "metadata": {},
   "outputs": [
    {
     "name": "stdout",
     "output_type": "stream",
     "text": [
      "64\n"
     ]
    }
   ],
   "source": [
    "import sys\n",
    "sys.path.append('C:/Users/Davids/Documents/AplicaTesis/preprocesamiento2')\n",
    "from preprocesamiento import SEQUENCE_LENGTH,MAPPING_PATH\n",
    "print(SEQUENCE_LENGTH)"
   ]
  },
  {
   "cell_type": "code",
   "execution_count": 13,
   "id": "0f185f7a",
   "metadata": {},
   "outputs": [],
   "source": [
    "import json\n",
    "import numpy as np\n",
    "import tensorflow.keras as keras\n",
    "import music21 as m21\n"
   ]
  },
  {
   "cell_type": "code",
   "execution_count": 14,
   "id": "7fff8ca4",
   "metadata": {},
   "outputs": [],
   "source": [
    "MODEL_PATH = \"C:/Users/Davids/Documents/AplicaTesis/modelo/modelo.h5\"\n",
    "START_SYMBOLS = [\"/\"] * SEQUENCE_LENGTH"
   ]
  },
  {
   "cell_type": "code",
   "execution_count": 15,
   "id": "8f2f1e95",
   "metadata": {},
   "outputs": [],
   "source": [
    "\n",
    "def load_model(model_path):\n",
    "    \"\"\"Load the pre-trained LSTM model.\"\"\"\n",
    "    return keras.models.load_model(model_path)\n",
    "\n"
   ]
  },
  {
   "cell_type": "code",
   "execution_count": 16,
   "id": "78787572",
   "metadata": {},
   "outputs": [],
   "source": [
    "def load_mappings(mapping_path):\n",
    "    \"\"\"Load the mappings from the JSON file.\"\"\"\n",
    "    with open(mapping_path, \"r\") as fp:\n",
    "        return json.load(fp)\n"
   ]
  },
  {
   "cell_type": "code",
   "execution_count": 17,
   "id": "eff33853",
   "metadata": {},
   "outputs": [],
   "source": [
    "def sample_with_temperature(probabilities, temperature):\n",
    "    \"\"\"Sample an index from a probability array reapplying softmax using temperature.\"\"\"\n",
    "    predictions = np.log(probabilities) / temperature\n",
    "    probabilities = np.exp(predictions) / np.sum(np.exp(predictions))\n",
    "\n",
    "    choices = range(len(probabilities))\n",
    "    index = np.random.choice(choices, p=probabilities)\n",
    "\n",
    "    return index"
   ]
  },
  {
   "cell_type": "code",
   "execution_count": 18,
   "id": "837b215c",
   "metadata": {},
   "outputs": [],
   "source": [
    "def generate_melody(model, mappings, seed, num_steps, max_sequence_length, temperature):\n",
    "    \"\"\"Generates a melody using the DL model and returns a list with symbols representing the melody.\"\"\"\n",
    "    seed = seed.split()\n",
    "    melody = seed\n",
    "    seed = START_SYMBOLS + seed\n",
    "\n",
    "    seed = [mappings[symbol] for symbol in seed]\n",
    "\n",
    "    for _ in range(num_steps):\n",
    "        seed = seed[-max_sequence_length:]\n",
    "\n",
    "        onehot_seed = keras.utils.to_categorical(seed, num_classes=len(mappings))\n",
    "        onehot_seed = onehot_seed[np.newaxis, ...]\n",
    "\n",
    "        probabilities = model.predict(onehot_seed)[0]\n",
    "        output_int = sample_with_temperature(probabilities, temperature)\n",
    "\n",
    "        seed.append(output_int)\n",
    "\n",
    "        output_symbol = [k for k, v in mappings.items() if v == output_int][0]\n",
    "\n",
    "        if output_symbol == \"/\":\n",
    "            break\n",
    "\n",
    "        melody.append(output_symbol)\n",
    "\n",
    "    return melody"
   ]
  },
  {
   "cell_type": "code",
   "execution_count": 19,
   "id": "02374d48",
   "metadata": {},
   "outputs": [],
   "source": [
    " def save_melody(melody, step_duration=0.125, format=\"midi\", file_name=\"modeloaplicado.mid\"):\n",
    "        \"\"\"Converts a melody into a MIDI file\n",
    "\n",
    "        :param melody (list of str):\n",
    "        :param min_duration (float): Duration of each time step in quarter length\n",
    "        :param file_name (str): Name of midi file\n",
    "        :return:\n",
    "        \"\"\"\n",
    "\n",
    "        # create a music21 stream\n",
    "        stream = m21.stream.Stream()\n",
    "        # Add the 6/8 time signature at the beginning of the stream\n",
    "        time_signature = m21.meter.TimeSignature('6/8')\n",
    "        stream.append(time_signature)\n",
    "        start_symbol = None\n",
    "        step_counter = 1\n",
    "\n",
    "        # parse all the symbols in the melody and create note/rest objects\n",
    "        for i, symbol in enumerate(melody):\n",
    "\n",
    "            # handle case in which we have a note/rest\n",
    "            if symbol != \"_\" or i + 1 == len(melody):\n",
    "\n",
    "                # ensure we're dealing with note/rest beyond the first one\n",
    "                if start_symbol is not None:\n",
    "\n",
    "                    quarter_length_duration = step_duration * step_counter # 0.25 * 4 = 1\n",
    "\n",
    "                    # handle rest\n",
    "                    if start_symbol == \"r\":\n",
    "                        m21_event = m21.note.Rest(quarterLength=quarter_length_duration)\n",
    "\n",
    "                    # handle note\n",
    "                    else:\n",
    "                        m21_event = m21.note.Note(int(start_symbol), quarterLength=quarter_length_duration)\n",
    "\n",
    "                    stream.append(m21_event)\n",
    "\n",
    "                    # reset the step counter\n",
    "                    step_counter = 1\n",
    "\n",
    "                start_symbol = symbol\n",
    "\n",
    "            # handle case in which we have a prolongation sign \"_\"\n",
    "            else:\n",
    "                step_counter += 1\n",
    "\n",
    "        # write the m21 stream to a midi file\n",
    "        stream.write(format, file_name)"
   ]
  },
  {
   "cell_type": "code",
   "execution_count": 23,
   "id": "9c11adea",
   "metadata": {},
   "outputs": [],
   "source": [
    " #seed = \"55 _ _ _ 60 _ _ _ 55 _ _ _ 55 _\"\n",
    "def main():\n",
    "    model = load_model(MODEL_PATH)\n",
    "    mappings = load_mappings(MAPPING_PATH)\n",
    "    seed = \"67 _ 67 _ 67 _ _ 65 64 _ 64 _ 64 _ _\"\n",
    "    melody = generate_melody(model, mappings, seed, 500, SEQUENCE_LENGTH, 0.3)\n",
    "    print(melody)\n",
    "    save_melody(melody)\n"
   ]
  },
  {
   "cell_type": "code",
   "execution_count": 24,
   "id": "44917910",
   "metadata": {},
   "outputs": [
    {
     "name": "stdout",
     "output_type": "stream",
     "text": [
      "1/1 [==============================] - 0s 401ms/step\n",
      "1/1 [==============================] - 0s 25ms/step\n",
      "1/1 [==============================] - 0s 26ms/step\n",
      "1/1 [==============================] - 0s 27ms/step\n",
      "1/1 [==============================] - 0s 27ms/step\n",
      "1/1 [==============================] - 0s 26ms/step\n",
      "1/1 [==============================] - 0s 28ms/step\n",
      "1/1 [==============================] - 0s 24ms/step\n",
      "1/1 [==============================] - 0s 24ms/step\n",
      "1/1 [==============================] - 0s 24ms/step\n",
      "1/1 [==============================] - 0s 23ms/step\n",
      "1/1 [==============================] - 0s 24ms/step\n",
      "1/1 [==============================] - 0s 24ms/step\n",
      "1/1 [==============================] - 0s 24ms/step\n",
      "1/1 [==============================] - 0s 23ms/step\n",
      "1/1 [==============================] - 0s 24ms/step\n",
      "1/1 [==============================] - 0s 23ms/step\n",
      "1/1 [==============================] - 0s 24ms/step\n",
      "1/1 [==============================] - 0s 23ms/step\n",
      "1/1 [==============================] - 0s 24ms/step\n",
      "1/1 [==============================] - 0s 24ms/step\n",
      "1/1 [==============================] - 0s 23ms/step\n",
      "1/1 [==============================] - 0s 23ms/step\n",
      "1/1 [==============================] - 0s 23ms/step\n",
      "1/1 [==============================] - 0s 23ms/step\n",
      "1/1 [==============================] - 0s 24ms/step\n",
      "1/1 [==============================] - 0s 22ms/step\n",
      "1/1 [==============================] - 0s 23ms/step\n",
      "1/1 [==============================] - 0s 26ms/step\n",
      "1/1 [==============================] - 0s 27ms/step\n",
      "1/1 [==============================] - 0s 28ms/step\n",
      "1/1 [==============================] - 0s 28ms/step\n",
      "1/1 [==============================] - 0s 27ms/step\n",
      "1/1 [==============================] - 0s 26ms/step\n",
      "1/1 [==============================] - 0s 24ms/step\n",
      "1/1 [==============================] - 0s 23ms/step\n",
      "1/1 [==============================] - 0s 23ms/step\n",
      "1/1 [==============================] - 0s 22ms/step\n",
      "1/1 [==============================] - 0s 22ms/step\n",
      "1/1 [==============================] - 0s 23ms/step\n",
      "1/1 [==============================] - 0s 23ms/step\n",
      "1/1 [==============================] - 0s 23ms/step\n",
      "1/1 [==============================] - 0s 23ms/step\n",
      "1/1 [==============================] - 0s 23ms/step\n",
      "1/1 [==============================] - 0s 23ms/step\n",
      "1/1 [==============================] - 0s 23ms/step\n",
      "1/1 [==============================] - 0s 23ms/step\n",
      "1/1 [==============================] - 0s 23ms/step\n",
      "1/1 [==============================] - 0s 23ms/step\n",
      "1/1 [==============================] - 0s 23ms/step\n",
      "1/1 [==============================] - 0s 23ms/step\n",
      "1/1 [==============================] - 0s 23ms/step\n",
      "1/1 [==============================] - 0s 23ms/step\n",
      "1/1 [==============================] - 0s 25ms/step\n",
      "1/1 [==============================] - 0s 23ms/step\n",
      "1/1 [==============================] - 0s 24ms/step\n",
      "1/1 [==============================] - 0s 24ms/step\n",
      "1/1 [==============================] - 0s 22ms/step\n",
      "1/1 [==============================] - 0s 22ms/step\n",
      "1/1 [==============================] - 0s 23ms/step\n",
      "1/1 [==============================] - 0s 23ms/step\n",
      "1/1 [==============================] - 0s 23ms/step\n",
      "1/1 [==============================] - 0s 23ms/step\n",
      "1/1 [==============================] - 0s 24ms/step\n",
      "1/1 [==============================] - 0s 28ms/step\n",
      "1/1 [==============================] - 0s 29ms/step\n",
      "1/1 [==============================] - 0s 28ms/step\n",
      "1/1 [==============================] - 0s 28ms/step\n",
      "1/1 [==============================] - 0s 24ms/step\n",
      "1/1 [==============================] - 0s 25ms/step\n",
      "1/1 [==============================] - 0s 27ms/step\n",
      "1/1 [==============================] - 0s 26ms/step\n",
      "1/1 [==============================] - 0s 24ms/step\n",
      "1/1 [==============================] - 0s 27ms/step\n",
      "['67', '_', '67', '_', '67', '_', '_', '65', '64', '_', '64', '_', '64', '_', '_', '_', '67', '_', '_', '65', '64', '_', '_', '_', '62', '_', '_', '_', 'r', '_', '_', '_', '60', '_', '64', '_', '67', '_', '_', '_', '67', '_', '_', '_', '67', '_', '_', '_', '69', '_', '67', '_', '67', '_', '65', '_', '65', '_', '_', '_', 'r', '_', '_', '_', '67', '_', '65', '_', '64', '_', '_', '_', '64', '_', '_', '_', '62', '_', '62', '_', '60', '_', '_', '_', 'r', '_', '_', '_']\n"
     ]
    }
   ],
   "source": [
    "if __name__ == \"__main__\":\n",
    "    main()"
   ]
  },
  {
   "cell_type": "code",
   "execution_count": null,
   "id": "c69038dd",
   "metadata": {},
   "outputs": [],
   "source": []
  }
 ],
 "metadata": {
  "kernelspec": {
   "display_name": "Python 3 (ipykernel)",
   "language": "python",
   "name": "python3"
  },
  "language_info": {
   "codemirror_mode": {
    "name": "ipython",
    "version": 3
   },
   "file_extension": ".py",
   "mimetype": "text/x-python",
   "name": "python",
   "nbconvert_exporter": "python",
   "pygments_lexer": "ipython3",
   "version": "3.11.5"
  }
 },
 "nbformat": 4,
 "nbformat_minor": 5
}
