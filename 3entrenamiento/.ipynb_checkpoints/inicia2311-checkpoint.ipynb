{
 "cells": [
  {
   "cell_type": "code",
   "execution_count": null,
   "id": "8356037d",
   "metadata": {},
   "outputs": [],
   "source": [
    "import json\n",
    "import numpy as np\n",
    "import tensorflow.keras as keras\n",
    "#from preprocess import generate_training_sequences, SEQUENCE_LENGTH\n",
    "#from verfica6 import generate_training_sequences, SEQUENCE_LENGTH\n",
    "\n",
    "OUTPUT_UNITS = 38\n",
    "NUM_UNITS = [256]\n",
    "LOSS = \"sparse_categorical_crossentropy\"\n",
    "LEARNING_RATE = 0.001\n",
    "EPOCHS = 50\n",
    "BATCH_SIZE = 64\n",
    "SAVE_MODEL_PATH = \"C:/Users/Davids/Documents/AplicaTesis/modelo/modelo.h5\""
   ]
  },
  {
   "cell_type": "code",
   "execution_count": null,
   "id": "df37773d",
   "metadata": {},
   "outputs": [],
   "source": [
    "MAPPING_PATH = \"C:/Users/Davids/Downloads/melody/generating-melodies-with-rnn-lstm-master/5 - Preprocessing dataset for melody generation pt 3/mapping.json\"\n",
    "SEQUENCE_LENGTH = 64\n",
    "SINGLE_FILE_DATASET=\"C:/Users/Davids/Downloads/melody/generating-melodies-with-rnn-lstm-master/5 - Preprocessing dataset for melody generation pt 3/file_dataset\"\n",
    "\n",
    "timesteps = 10  # Definir el número de pasos de tiempo que tus datos tienen\n",
    "input_features = 5  # Definir el número de características en cada paso de tiempo\n",
    "\n"
   ]
  },
  {
   "cell_type": "code",
   "execution_count": null,
   "id": "f80fec3f",
   "metadata": {},
   "outputs": [],
   "source": [
    "def convert_songs_to_int(songs):\n",
    "    int_songs = []\n",
    "\n",
    "    # load mappings\n",
    "    with open(MAPPING_PATH, \"r\") as fp:\n",
    "        mappings = json.load(fp)\n",
    "\n",
    "    # transform songs string to list\n",
    "    songs = songs.split()\n",
    "\n",
    "    # map songs to int\n",
    "    for symbol in songs:\n",
    "        int_songs.append(mappings[symbol])\n",
    "\n",
    "    return int_songs"
   ]
  },
  {
   "cell_type": "code",
   "execution_count": null,
   "id": "88981139",
   "metadata": {},
   "outputs": [],
   "source": [
    "\n",
    "def build_model(output_units, num_units, loss, learning_rate):\n",
    "    \"\"\"Builds and compiles model\n",
    "\n",
    "    :param output_units (int): Num output units\n",
    "    :param num_units (list of int): Num of units in hidden layers\n",
    "    :param loss (str): Type of loss function to use\n",
    "    :param learning_rate (float): Learning rate to apply\n",
    "\n",
    "    :return model (tf model): Where the magic happens :D\n",
    "    \"\"\"\n",
    "\n",
    "    # create the model architecture\n",
    "    #input = keras.layers.Input(shape=(None, output_units))\n",
    "    input = keras.layers.Input(shape=(timesteps, input_features))\n",
    "    x = keras.layers.LSTM(num_units[0])(input)\n",
    "    x = keras.layers.LSTM(num_units[0])(input)\n",
    "    x = keras.layers.Dropout(0.2)(x)\n",
    "\n",
    "    output = keras.layers.Dense(output_units, activation=\"softmax\")(x)\n",
    "\n",
    "    model = keras.Model(input, output)\n",
    "\n",
    "    # compile model\n",
    "    model.compile(loss=loss,\n",
    "                  optimizer=keras.optimizers.Adam(learning_rate=learning_rate),\n",
    "                  metrics=[\"accuracy\"])\n",
    "\n",
    "    model.summary()\n",
    "\n",
    "    return model"
   ]
  },
  {
   "cell_type": "code",
   "execution_count": null,
   "id": "935b0bb4",
   "metadata": {},
   "outputs": [],
   "source": [
    "\n",
    "def train(output_units=OUTPUT_UNITS, num_units=NUM_UNITS, loss=LOSS, learning_rate=LEARNING_RATE):\n",
    "    \"\"\"Train and save TF model.\n",
    "\n",
    "    :param output_units (int): Num output units\n",
    "    :param num_units (list of int): Num of units in hidden layers\n",
    "    :param loss (str): Type of loss function to use\n",
    "    :param learning_rate (float): Learning rate to apply\n",
    "    \"\"\"\n",
    "\n",
    "    # generate the training sequences\n",
    "    #inputs, targets = generate_training_sequences(SEQUENCE_LENGTH)\n",
    "    inputs, targets = generate_training_sequences(SEQUENCE_LENGTH)\n",
    "\n",
    "    # build the network\n",
    "    model = build_model(output_units, num_units, loss, learning_rate)\n",
    "\n",
    "    # train the model\n",
    "    model.fit(inputs, targets, epochs=EPOCHS, batch_size=BATCH_SIZE)\n",
    "\n",
    "    # save the model\n",
    "    model.save(SAVE_MODEL_PATH)"
   ]
  },
  {
   "cell_type": "code",
   "execution_count": null,
   "id": "91a8263f",
   "metadata": {},
   "outputs": [],
   "source": [
    "if __name__ == \"__main__\":\n",
    "    train()"
   ]
  },
  {
   "cell_type": "code",
   "execution_count": null,
   "id": "94ff390e",
   "metadata": {},
   "outputs": [],
   "source": []
  },
  {
   "cell_type": "code",
   "execution_count": null,
   "id": "0855f774",
   "metadata": {},
   "outputs": [],
   "source": []
  }
 ],
 "metadata": {
  "kernelspec": {
   "display_name": "Python 3 (ipykernel)",
   "language": "python",
   "name": "python3"
  },
  "language_info": {
   "codemirror_mode": {
    "name": "ipython",
    "version": 3
   },
   "file_extension": ".py",
   "mimetype": "text/x-python",
   "name": "python",
   "nbconvert_exporter": "python",
   "pygments_lexer": "ipython3",
   "version": "3.11.5"
  }
 },
 "nbformat": 4,
 "nbformat_minor": 5
}
