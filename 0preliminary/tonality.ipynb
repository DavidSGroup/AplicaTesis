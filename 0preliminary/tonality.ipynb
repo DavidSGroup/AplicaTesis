{
 "cells": [
  {
   "cell_type": "code",
   "execution_count": 1,
   "id": "e1cf2163",
   "metadata": {},
   "outputs": [],
   "source": [
    "import os\n",
    "from music21 import converter, key\n",
    "logger=\"win10Davids\""
   ]
  },
  {
   "cell_type": "code",
   "execution_count": 2,
   "id": "df1fdd40",
   "metadata": {},
   "outputs": [],
   "source": [
    "  # Directorio que contiene los archivos de partituras de cueca en formato Kern\\n\",\n",
    "FOLDER_CUECA = \"c:/Users/{}/Documents/AplicaTesis/1TESTCUECA/\".format(logger)"
   ]
  },
  {
   "cell_type": "code",
   "execution_count": 3,
   "id": "8640fcfa",
   "metadata": {},
   "outputs": [
    {
     "name": "stdout",
     "output_type": "stream",
     "text": [
      "La tonalidad de  Al Ausentarme de ti.krn es: e minor\n",
      "La tonalidad de  carrito carbonero.krn es: C major\n",
      "La tonalidad de  claveles rojos.krn es: d minor\n",
      "La tonalidad de  cueca del estudiante.krn es: E major\n",
      "La tonalidad de  Gacela.krn es: d minor\n",
      "La tonalidad de  hay que trite es el quererte.krn es: e minor\n",
      "La tonalidad de  Huerfana virginia.krn es: a minor\n",
      "La tonalidad de  la caraqueña.krn es: e minor\n",
      "La tonalidad de  Marujita.krn es: d minor\n",
      "La tonalidad de  Mi corazon es Cbba.krn es: C major\n",
      "La tonalidad de  Mi querido potosi.krn es: e minor\n",
      "La tonalidad de  Moto Mendez.krn es: C major\n",
      "La tonalidad de  Paso paso palomita.krn es: a minor\n",
      "La tonalidad de  patrones.krn es: F major\n",
      "La tonalidad de  Sed de Anor.krn es: d minor\n",
      "La tonalidad de  Tantas Idas y venidas.krn es: D major\n",
      "La tonalidad de  Te Amare.krn es: d minor\n",
      "La tonalidad de  Triste es asentarse.krn es: a minor\n"
     ]
    }
   ],
   "source": [
    "def Analyze_Song_Key(song_kern):\n",
    "    # Obtener las partes de la canción\n",
    "    parts = song_kern.getElementsByClass('Part')\n",
    "\n",
    "    # Utilizar la tonalidad de la primera parte (puedes ajustar esto según tus necesidades)\n",
    "    key = parts[0].analyze('key')\n",
    "    return key\n",
    "\n",
    "# Iterar sobre cada archivo en el directorio\n",
    "for filename in os.listdir(FOLDER_CUECA):\n",
    "    if filename.endswith(\".krn\"):\n",
    "        # Construir la ruta completa del archivo\n",
    "        file_path = os.path.join(FOLDER_CUECA, filename)\n",
    "\n",
    "        # Cargar la canción desde el archivo\n",
    "        song = converter.parse(file_path)\n",
    "\n",
    "        # Analizar la tonalidad de la canción\n",
    "        key = Analyze_Song_Key(song)\n",
    "\n",
    "        # Imprimir la tonalidad de cada canción\n",
    "        print(f\"La tonalidad de  {filename} es: {key}\")"
   ]
  },
  {
   "cell_type": "code",
   "execution_count": null,
   "id": "f44997ac",
   "metadata": {},
   "outputs": [],
   "source": []
  },
  {
   "cell_type": "code",
   "execution_count": null,
   "id": "7bbea074",
   "metadata": {},
   "outputs": [],
   "source": []
  }
 ],
 "metadata": {
  "kernelspec": {
   "display_name": "Python 3 (ipykernel)",
   "language": "python",
   "name": "python3"
  },
  "language_info": {
   "codemirror_mode": {
    "name": "ipython",
    "version": 3
   },
   "file_extension": ".py",
   "mimetype": "text/x-python",
   "name": "python",
   "nbconvert_exporter": "python",
   "pygments_lexer": "ipython3",
   "version": "3.10.9"
  }
 },
 "nbformat": 4,
 "nbformat_minor": 5
}
