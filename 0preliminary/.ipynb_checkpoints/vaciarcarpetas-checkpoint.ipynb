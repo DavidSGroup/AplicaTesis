{
 "cells": [
  {
   "cell_type": "code",
   "execution_count": null,
   "id": "449a4f2e",
   "metadata": {},
   "outputs": [],
   "source": [
    "import os\n",
    "import shutil\n",
    "\n",
    "def limpiar_carpeta(ruta_carpeta):\n",
    "    try:\n",
    "        # Obtener la lista de archivos y carpetas en la carpeta\n",
    "        contenido = os.listdir(ruta_carpeta)\n",
    "\n",
    "        # Iterar sobre los elementos y eliminarlos\n",
    "        for elemento in contenido:\n",
    "            ruta_elemento = os.path.join(ruta_carpeta, elemento)\n",
    "\n",
    "            if os.path.isfile(ruta_elemento):\n",
    "                # Si es un archivo, eliminarlo\n",
    "                os.unlink(ruta_elemento)\n",
    "            elif os.path.isdir(ruta_elemento):\n",
    "                # Si es una carpeta, eliminarla recursivamente\n",
    "                shutil.rmtree(ruta_elemento)\n",
    "\n",
    "        print(f'Contenidos de {ruta_carpeta} eliminados con éxito.')\n",
    "\n",
    "    except Exception as e:\n",
    "        print(f'Ocurrió un error al intentar limpiar la carpeta: {e}')\n",
    "\n",
    "# Rutas de las carpetas que se quieren limpiar\n",
    "carpetas_a_limpiar = [SAVE_DIR, SINGLE_FILE_DATASET, MAPPING_PATH]\n",
    "\n",
    "# Limpiar cada carpeta\n",
    "for carpeta in carpetas_a_limpiar:\n",
    "    limpiar_carpeta(carpeta)\n"
   ]
  }
 ],
 "metadata": {
  "kernelspec": {
   "display_name": "Python 3 (ipykernel)",
   "language": "python",
   "name": "python3"
  },
  "language_info": {
   "codemirror_mode": {
    "name": "ipython",
    "version": 3
   },
   "file_extension": ".py",
   "mimetype": "text/x-python",
   "name": "python",
   "nbconvert_exporter": "python",
   "pygments_lexer": "ipython3",
   "version": "3.11.5"
  }
 },
 "nbformat": 4,
 "nbformat_minor": 5
}
