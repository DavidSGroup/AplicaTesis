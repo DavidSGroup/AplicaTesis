{
 "cells": [
  {
   "cell_type": "code",
   "execution_count": 1,
   "id": "2ea35b07",
   "metadata": {},
   "outputs": [
    {
     "name": "stdout",
     "output_type": "stream",
     "text": [
      "La tonalidad de deut5146.krn es: e minor\n",
      "La tonalidad de deut5147.krn es: e minor\n",
      "La tonalidad de deut5148.krn es: F major\n",
      "La tonalidad de deut5149.krn es: a minor\n",
      "La tonalidad de deut5150.krn es: g minor\n",
      "La tonalidad de deut5151.krn es: D major\n",
      "La tonalidad de deut5152.krn es: e minor\n",
      "La tonalidad de deut5153.krn es: F major\n",
      "La tonalidad de deut5154.krn es: a minor\n",
      "La tonalidad de deut5155.krn es: e minor\n",
      "La tonalidad de deut5156.krn es: F major\n",
      "La tonalidad de deut5157.krn es: a minor\n"
     ]
    }
   ],
   "source": [
    "import os\n",
    "from music21 import converter, key\n",
    "\n",
    "# Directorio que contiene los archivos de partituras de cueca en formato Kern\n",
    "directorio_cueca = \"c:/Users/Davids/Documents/AplicaTesis/test/\"\n",
    "\n",
    "# Función para analizar la tonalidad de una canción en formato Kern\n",
    "def analizar_tonalidad_cancion(cancion_kern):\n",
    "    # Obtener las partes de la canción\n",
    "    partes = cancion_kern.getElementsByClass('Part')\n",
    "\n",
    "    # Utilizar la tonalidad de la primera parte (puedes ajustar esto según tus necesidades)\n",
    "    tonalidad = partes[0].analyze('key')\n",
    "    return tonalidad\n",
    "\n",
    "# Iterar sobre cada archivo en el directorio\n",
    "for nombre_archivo in os.listdir(directorio_cueca):\n",
    "    if nombre_archivo.endswith(\".krn\"):\n",
    "        # Construir la ruta completa del archivo\n",
    "        ruta_archivo = os.path.join(directorio_cueca, nombre_archivo)\n",
    "\n",
    "        # Cargar la canción desde el archivo\n",
    "        cancion = converter.parse(ruta_archivo)\n",
    "\n",
    "        # Analizar la tonalidad de la canción\n",
    "        tonalidad = analizar_tonalidad_cancion(cancion)\n",
    "\n",
    "        # Imprimir la tonalidad de cada canción\n",
    "        print(f\"La tonalidad de {nombre_archivo} es: {tonalidad}\")\n"
   ]
  },
  {
   "cell_type": "code",
   "execution_count": null,
   "id": "bd846695",
   "metadata": {},
   "outputs": [],
   "source": []
  },
  {
   "cell_type": "code",
   "execution_count": null,
   "id": "e1cf2163",
   "metadata": {},
   "outputs": [],
   "source": []
  }
 ],
 "metadata": {
  "kernelspec": {
   "display_name": "Python 3 (ipykernel)",
   "language": "python",
   "name": "python3"
  },
  "language_info": {
   "codemirror_mode": {
    "name": "ipython",
    "version": 3
   },
   "file_extension": ".py",
   "mimetype": "text/x-python",
   "name": "python",
   "nbconvert_exporter": "python",
   "pygments_lexer": "ipython3",
   "version": "3.11.5"
  }
 },
 "nbformat": 4,
 "nbformat_minor": 5
}
