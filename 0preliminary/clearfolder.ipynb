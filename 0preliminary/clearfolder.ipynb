{
 "cells": [
  {
   "cell_type": "code",
   "execution_count": 1,
   "id": "b1125caa",
   "metadata": {},
   "outputs": [],
   "source": [
    "SAVE_DIR = \"c:/Users/Davids/Documents/AplicaTesis/temacodificado/\"\n",
    "SINGLE_FILE_DATASET = \"c:/Users/Davids/Documents/AplicaTesis/dataset/aplicatesis\"\n",
    "MAPPING_PATH = \"c:/Users/Davids/Documents/AplicaTesis/diccionario/diccionario.json\""
   ]
  },
  {
   "cell_type": "code",
   "execution_count": 2,
   "id": "a2278188",
   "metadata": {},
   "outputs": [
    {
     "name": "stdout",
     "output_type": "stream",
     "text": [
      "Contenidos de c:/Users/Davids/Documents/AplicaTesis/temacodificado/ eliminados con éxito.\n",
      "Ocurrió un error al intentar limpiar la carpeta: [WinError 267] The directory name is invalid: 'c:/Users/Davids/Documents/AplicaTesis/dataset/aplicatesis'\n",
      "Ocurrió un error al intentar limpiar la carpeta: [WinError 267] The directory name is invalid: 'c:/Users/Davids/Documents/AplicaTesis/diccionario/diccionario.json'\n"
     ]
    }
   ],
   "source": [
    "import os\n",
    "import shutil\n",
    "\n",
    "def limpiar_carpeta(ruta_carpeta):\n",
    "    try:\n",
    "        # Obtener la lista de archivos y carpetas en la carpeta\n",
    "        contenido = os.listdir(ruta_carpeta)\n",
    "\n",
    "        # Iterar sobre los elementos y eliminarlos\n",
    "        for elemento in contenido:\n",
    "            ruta_elemento = os.path.join(ruta_carpeta, elemento)\n",
    "\n",
    "            if os.path.isfile(ruta_elemento):\n",
    "                # Si es un archivo, eliminarlo\n",
    "                os.unlink(ruta_elemento)\n",
    "            elif os.path.isdir(ruta_elemento):\n",
    "                # Si es una carpeta, eliminarla recursivamente\n",
    "                shutil.rmtree(ruta_elemento)\n",
    "\n",
    "        print(f'Contenidos de {ruta_carpeta} eliminados con éxito.')\n",
    "\n",
    "    except Exception as e:\n",
    "        print(f'Ocurrió un error al intentar limpiar la carpeta: {e}')\n",
    "\n",
    "# Rutas de las carpetas que se quieren limpiar\n",
    "carpetas_a_limpiar = [SAVE_DIR, SINGLE_FILE_DATASET, MAPPING_PATH]\n",
    "\n",
    "# Limpiar cada carpeta\n",
    "for carpeta in carpetas_a_limpiar:\n",
    "    limpiar_carpeta(carpeta)\n"
   ]
  },
  {
   "cell_type": "code",
   "execution_count": null,
   "id": "2265321e",
   "metadata": {},
   "outputs": [],
   "source": []
  }
 ],
 "metadata": {
  "kernelspec": {
   "display_name": "Python 3 (ipykernel)",
   "language": "python",
   "name": "python3"
  },
  "language_info": {
   "codemirror_mode": {
    "name": "ipython",
    "version": 3
   },
   "file_extension": ".py",
   "mimetype": "text/x-python",
   "name": "python",
   "nbconvert_exporter": "python",
   "pygments_lexer": "ipython3",
   "version": "3.11.5"
  }
 },
 "nbformat": 4,
 "nbformat_minor": 5
}
